{
  "cells": [
    {
      "cell_type": "markdown",
      "metadata": {
        "id": "wAyIvfaaEdJd"
      },
      "source": [
        "# Atividade MapReduce\n",
        "\n",
        "Considerando o dataset detalhado a seguir, extraia o conjunto de informações solicitadas.\n",
        "\n",
        "### Dataset dados de operacoes comerciais entre paises\n",
        "- Dados relativos a transacoes comerciais entre paises ao longo do tempo\n",
        "- 2 bases:\n",
        "  - base.csv ~433MB (3M de eventos)\n",
        "  - base_sample.csv ~4MB (35k de eventos)\n",
        "- 4.4M de instâncias\n",
        "\n",
        "### Formato da base\n",
        "\n",
        "|  # | Nome do campo        \t| Descrição                                     \t|\n",
        "|----|----------------------\t|-----------------------------------------------\t|\n",
        "|  0 | \tPaís|\tPaís envolvido na transação comercial|\n",
        "|  1 | \tAno|\tAno em que a transação foi efetuada|\n",
        "|  2 | \tCódigo|\tCódigo da mercadoria|\n",
        "|  3 | \tMercadoria| \tDescrição da mercadoria|\n",
        "|  4 | \tFluxo|\tFluxo, e.g. Exportação ou Importação|\n",
        "|  5 | \tValor|\tValor em dólares|\n",
        "|  6 | \tPeso|\tPeso da mercadoria|\n",
        "|  7 | \tUnidade| \tUnidade de medida da mercadoria, e.g. Quantidade de itens|\n",
        "|  8 | \tQuantidade|\tQuantidade conforme a unidade especificada da mercadoria|\n",
        "|  9 | \tCategoria|\tCategoria da mercadoria, e.g. Produto Animal|\n",
        "\n",
        "\n",
        "### Informações a serem extraídas:\n",
        "\n",
        "1.\tPaís com a maior quantidade de transações comerciais efetuadas;\n",
        "2.\tMercadoria com a maior quantidade de transações comerciais no Brasil (como a base de dados está em inglês utilize Brazil, com Z, utilize a função “contains” do Java);\n",
        "3.\tQuantidade de transações financeiras realizadas por ano;\n",
        "4.\tMercadoria com maior quantidade de transações financeiras;\n",
        "5.\tMercadoria com maior quantidade de transações financeiras em 2016;\n",
        "6.\tMercadoria com maior quantidade de transações financeiras em 2016, no Brasil (como a base de dados está em inglês utilize Brazil, com Z);\n",
        "7.\tMercadoria com maior total de peso, de acordo com todas transações comerciais;\n",
        "8.\tMercadoria com maior total de peso, de acordo com todas transações comerciais, separadas de acordo com o ano;\n",
        "9.\tMédia de peso por mercadoria, separadas de acordo com o ano;\n",
        "10.\tMédia de peso por mercadoria comercializadas no Brasil (como a base de dados está em inglês utilize Brazil, com Z), separadas de acordo com o ano;\n",
        "11.\tMédia de peso por mercadoria comercializadas no Brasil (como a base de dados está em inglês utilize Brazil, com Z), em relação ao fluxo, separadas de acordo com o ano;\n",
        "12.\tPreco medio das commodities de acordo com o ano\n",
        "13.\tValores maximos, minimos e médios de cada tipo de mercadoria por ano\n",
        "14.\tPais com o maior preco da commodity em fluxos do tipo Export\n",
        "15.\tQuantidade de transações comerciais de acordo com o fluxo, de acordo com o ano;"
      ]
    },
    {
      "cell_type": "code",
      "source": [
        "#Instala ambiente local do MapReduce\n",
        "!pip --quiet install mrjob\n",
        "!pip --quiet install --upgrade --no-cache-dir gdown\n",
        "#Efetua download da base completa (400MB)  https://drive.google.com/file/d/1LdeDR5wKP15kUywI7491OmKzdMzVgO-c/view?usp=sharing\n",
        "!gdown 1LdeDR5wKP15kUywI7491OmKzdMzVgO-c\n",
        "#Efetua download da base parcial (4MB)   https://drive.google.com/file/d/1CBi-jpBlJrKX4BmWMO0bM-DjLeLXrnDm/view?usp=sharing\n",
        "!gdown 1CBi-jpBlJrKX4BmWMO0bM-DjLeLXrnDm"
      ],
      "metadata": {
        "id": "MOzkKQYcOL9g",
        "colab": {
          "base_uri": "https://localhost:8080/"
        },
        "outputId": "88a873c4-28ce-44f0-d966-1c49e8ef4147"
      },
      "execution_count": null,
      "outputs": [
        {
          "output_type": "stream",
          "name": "stdout",
          "text": [
            "\u001b[2K   \u001b[90m━━━━━━━━━━━━━━━━━━━━━━━━━━━━━━━━━━━━━━━━\u001b[0m \u001b[32m439.6/439.6 kB\u001b[0m \u001b[31m5.7 MB/s\u001b[0m eta \u001b[36m0:00:00\u001b[0m\n",
            "\u001b[?25hDownloading...\n",
            "From (original): https://drive.google.com/uc?id=1LdeDR5wKP15kUywI7491OmKzdMzVgO-c\n",
            "From (redirected): https://drive.google.com/uc?id=1LdeDR5wKP15kUywI7491OmKzdMzVgO-c&confirm=t&uuid=90756c4b-22a8-44ee-afad-9b93f82d9f78\n",
            "To: /content/base.csv\n",
            "100% 444M/444M [00:02<00:00, 149MB/s]\n",
            "Downloading...\n",
            "From: https://drive.google.com/uc?id=1CBi-jpBlJrKX4BmWMO0bM-DjLeLXrnDm\n",
            "To: /content/base_sample.csv\n",
            "100% 4.06M/4.06M [00:00<00:00, 131MB/s]\n"
          ]
        }
      ]
    },
    {
      "cell_type": "code",
      "source": [],
      "metadata": {
        "id": "8_yyegCRE4YG"
      },
      "execution_count": null,
      "outputs": []
    },
    {
      "cell_type": "code",
      "execution_count": null,
      "metadata": {
        "id": "5oa0PA69EdJf"
      },
      "outputs": [],
      "source": []
    },
    {
      "cell_type": "markdown",
      "source": [
        "### Informação 1\n",
        " - País com a maior quantidade de transações comerciais efetuadas;"
      ],
      "metadata": {
        "id": "PRXOKvQzu7f9"
      }
    },
    {
      "cell_type": "code",
      "source": [
        "## SELECT PAIS, COUNT(*) FROM tabela GROUP BY PAIS SORT BY COUNT(*) DESC LIMIT 1"
      ],
      "metadata": {
        "id": "aQBhBJJ1jRkj"
      },
      "execution_count": null,
      "outputs": []
    },
    {
      "cell_type": "code",
      "source": [
        "%%file pratica.py\n",
        "from mrjob.job import MRJob\n",
        "import sys\n",
        "\n",
        "class WordCount(MRJob):\n",
        "    def mapper(self, _, linha):\n",
        "      try:\n",
        "        campos = linha.split(';')\n",
        "        pais = campos[0]\n",
        "        yield(pais, 1)\n",
        "      except:\n",
        "        pass\n",
        "\n",
        "    def reducer(self, chave, valores):\n",
        "      valor = 0\n",
        "      for v in valores:\n",
        "        valor = valor + 1\n",
        "      yield(chave, valor)\n",
        "\n",
        "if __name__ == '__main__':\n",
        "     WordCount.run()"
      ],
      "metadata": {
        "id": "K1-g1QDbu5cX",
        "colab": {
          "base_uri": "https://localhost:8080/"
        },
        "outputId": "2c1f19e0-827e-4418-aabf-5aa931e047e5"
      },
      "execution_count": null,
      "outputs": [
        {
          "output_type": "stream",
          "name": "stdout",
          "text": [
            "Writing pratica.py\n"
          ]
        }
      ]
    },
    {
      "cell_type": "markdown",
      "source": [
        "Teste prévio com base parcial (Top 1 = \"Canada\"\t936)"
      ],
      "metadata": {
        "id": "f3PFWNVKvDwK"
      }
    },
    {
      "cell_type": "code",
      "source": [
        "!rm -rf /content/atividade\n",
        "!python pratica.py /content/base_sample.csv --output-dir=/content/atividade\n",
        "print('\\nTop 10 Entradas da atividade')\n",
        "!cat /content/atividade/* | sort -k2,2rn -t$'\\t' | head -10"
      ],
      "metadata": {
        "id": "j7OzfeAnvDa0",
        "colab": {
          "base_uri": "https://localhost:8080/"
        },
        "outputId": "a532fac8-7ea9-4cd6-f84f-16d69243790f"
      },
      "execution_count": null,
      "outputs": [
        {
          "output_type": "stream",
          "name": "stdout",
          "text": [
            "No configs found; falling back on auto-configuration\n",
            "No configs specified for inline runner\n",
            "Running step 1 of 1...\n",
            "Creating temp directory /tmp/pratica.root.20240808.002626.633973\n",
            "job output is in /content/atividade\n",
            "Removing temp directory /tmp/pratica.root.20240808.002626.633973...\n",
            "\n",
            "Top 10 Entradas da atividade\n",
            "\"Canada\"\t936\n",
            "\"France\"\t762\n",
            "\"Germany\"\t740\n",
            "\"Netherlands\"\t717\n",
            "\"Greece\"\t687\n",
            "\"Italy\"\t655\n",
            "\"Denmark\"\t646\n",
            "\"Czech Rep.\"\t643\n",
            "\"Malaysia\"\t640\n",
            "\"Austria\"\t614\n"
          ]
        }
      ]
    },
    {
      "cell_type": "markdown",
      "source": [
        "Teste com base completa (Top 1 = \"Australia\"\t89487)"
      ],
      "metadata": {
        "id": "2EmJ-fVevLJQ"
      }
    },
    {
      "cell_type": "code",
      "source": [
        "!rm -rf /content/atividade\n",
        "!python pratica.py /content/base.csv --output-dir=/content/atividade\n",
        "print('\\nTop 10 Entradas da atividade')\n",
        "!cat /content/atividade/* | sort -k2,2rn -t$'\\t' | head -10"
      ],
      "metadata": {
        "id": "rmLHhq0du5Zx",
        "colab": {
          "base_uri": "https://localhost:8080/"
        },
        "outputId": "99227a7f-f691-49dd-ad14-c0678c58def9"
      },
      "execution_count": null,
      "outputs": [
        {
          "output_type": "stream",
          "name": "stdout",
          "text": [
            "No configs found; falling back on auto-configuration\n",
            "No configs specified for inline runner\n",
            "Running step 1 of 1...\n",
            "Creating temp directory /tmp/pratica.root.20240808.002634.698382\n",
            "job output is in /content/atividade\n",
            "Removing temp directory /tmp/pratica.root.20240808.002634.698382...\n",
            "\n",
            "Top 10 Entradas da atividade\n",
            "\"Australia\"\t89487\n",
            "\"Canada\"\t69468\n",
            "\"Austria\"\t58683\n",
            "\"Argentina\"\t57729\n",
            "\"China, Hong Kong SAR\"\t55535\n",
            "\"Brazil\"\t54356\n",
            "\"Denmark\"\t49905\n",
            "\"Belgium\"\t49525\n",
            "\"China\"\t49275\n",
            "\"France\"\t46052\n"
          ]
        }
      ]
    },
    {
      "cell_type": "code",
      "source": [],
      "metadata": {
        "id": "OAEhAofnu5Up"
      },
      "execution_count": null,
      "outputs": []
    },
    {
      "cell_type": "markdown",
      "source": [
        "### Informação 2\n",
        " - Mercadoria com a maior quantidade de transações comerciais no Brasil (como a base de dados está em inglês utilize Brazil, com Z)"
      ],
      "metadata": {
        "id": "IjERlJ1gyAlM"
      }
    },
    {
      "cell_type": "code",
      "source": [
        "%%file pratica.py\n",
        "from mrjob.job import MRJob\n",
        "import sys\n",
        "\n",
        "class WordCount(MRJob):\n",
        "    def mapper(self, _, linha):\n",
        "      try:\n",
        "        campos = linha.split(';')\n",
        "        pais = campos[0]\n",
        "        mercadoria = campos[3]\n",
        "        if pais == 'Brazil':\n",
        "          yield(mercadoria,1)\n",
        "      except:\n",
        "        pass\n",
        "\n",
        "    def reducer(self, chave, valores):\n",
        "      valor = 0\n",
        "      for i in valores:\n",
        "        valor = valor + i\n",
        "      yield(chave, valor)\n",
        "\n",
        "if __name__ == '__main__':\n",
        "     WordCount.run()"
      ],
      "metadata": {
        "id": "oeKIkcAmyAlM",
        "colab": {
          "base_uri": "https://localhost:8080/"
        },
        "outputId": "18daa5b8-fec7-4467-ccd6-e943f3511d9c"
      },
      "execution_count": null,
      "outputs": [
        {
          "output_type": "stream",
          "name": "stdout",
          "text": [
            "Overwriting pratica.py\n"
          ]
        }
      ]
    },
    {
      "cell_type": "markdown",
      "source": [
        "Teste prévio com base parcial"
      ],
      "metadata": {
        "id": "xkT46bN9yAlN"
      }
    },
    {
      "cell_type": "code",
      "source": [
        "!rm -rf /content/atividade\n",
        "!python pratica.py /content/base_sample.csv --output-dir=/content/atividade\n",
        "print('\\nTop 10 Entradas da atividade')\n",
        "!cat /content/atividade/* | sort -k2,2rn -t$'\\t' | head -10"
      ],
      "metadata": {
        "id": "-Z5dd55ayAlN",
        "colab": {
          "base_uri": "https://localhost:8080/"
        },
        "outputId": "93d5e856-7d16-4fb6-bc02-7b627bc27b34"
      },
      "execution_count": null,
      "outputs": [
        {
          "output_type": "stream",
          "name": "stdout",
          "text": [
            "No configs found; falling back on auto-configuration\n",
            "No configs specified for inline runner\n",
            "Running step 1 of 1...\n",
            "Creating temp directory /tmp/pratica.root.20240808.002717.551859\n",
            "job output is in /content/atividade\n",
            "Removing temp directory /tmp/pratica.root.20240808.002717.551859...\n",
            "\n",
            "Top 10 Entradas da atividade\n",
            "\"Horses, live except pure-bred breeding\"\t64\n",
            "\"Animals, live, except farm animals\"\t56\n",
            "\"Bovine animals, live pure-bred breeding\"\t56\n",
            "\"Fowls, live domestic < 185 grams\"\t56\n",
            "\"Bovine animals, live, except pure-bred breeding\"\t54\n",
            "\"Horses, live pure-bred breeding\"\t54\n",
            "\"Swine, live pure-bred breeding\"\t52\n",
            "\"Sheep, live\"\t47\n",
            "\"Poultry, live except domestic fowls, < 185 grams\"\t32\n",
            "\"Goats, live\"\t30\n"
          ]
        }
      ]
    },
    {
      "cell_type": "markdown",
      "source": [
        "Teste com base completa"
      ],
      "metadata": {
        "id": "KyOXAOwMyAlN"
      }
    },
    {
      "cell_type": "code",
      "source": [
        "!rm -rf /content/atividade\n",
        "!python pratica.py /content/base.csv --output-dir=/content/atividade\n",
        "print('\\nTop 10 Entradas da atividade')\n",
        "!cat /content/atividade/* | sort -k2,2rn -t$'\\t' | head -10"
      ],
      "metadata": {
        "id": "J8HzyIcLyAlN"
      },
      "execution_count": null,
      "outputs": []
    },
    {
      "cell_type": "code",
      "source": [
        "## SELECT Mercadoria, COUNT(*) FROM Tabela WHERE Pais = BR GROUP BY Mercadoria\n",
        "\n",
        "## entradas de filtro:\n",
        "  # Pais = BR\n",
        "## campos de filtro:\n",
        "  # Mercadoria\n",
        "## Chave: Mercadoria\n",
        "## valor: ocorrencia"
      ],
      "metadata": {
        "id": "H1775c--yAlN"
      },
      "execution_count": null,
      "outputs": []
    },
    {
      "cell_type": "code",
      "source": [],
      "metadata": {
        "id": "iAriufiuu5NX"
      },
      "execution_count": null,
      "outputs": []
    },
    {
      "cell_type": "markdown",
      "source": [
        "### Informação 3\n",
        " - Quantidade de transações financeiras realizadas por ano;"
      ],
      "metadata": {
        "id": "rvi20aQEyjJ_"
      }
    },
    {
      "cell_type": "code",
      "source": [
        "## select ano, count(*) from tabela group by ano\n",
        "\n",
        "%%file pratica.py\n",
        "from mrjob.job import MRJob\n",
        "import sys\n",
        "\n",
        "class WordCount(MRJob):\n",
        "  def mapper(self,_,linha):\n",
        "    try:\n",
        "      campos = linha.split(';')\n",
        "      ano = campos[1]\n",
        "      yield(ano,1)\n",
        "    except:\n",
        "        pass\n",
        "\n",
        "  def reducer(self, chave, valores):\n",
        "    yield(chave, sum(list(valores)))\n",
        "\n",
        "if __name__ == '__main__':\n",
        "     WordCount.run()"
      ],
      "metadata": {
        "id": "iqTfirfKyjKE",
        "colab": {
          "base_uri": "https://localhost:8080/"
        },
        "outputId": "d96dd113-989c-400d-cec4-33c786d65f2f"
      },
      "execution_count": null,
      "outputs": [
        {
          "output_type": "stream",
          "name": "stdout",
          "text": [
            "Overwriting pratica.py\n"
          ]
        }
      ]
    },
    {
      "cell_type": "markdown",
      "source": [
        "Teste prévio com base parcial"
      ],
      "metadata": {
        "id": "_mEi9Dn6yjKE"
      }
    },
    {
      "cell_type": "code",
      "source": [
        "!rm -rf /content/atividade\n",
        "!python pratica.py /content/base_sample.csv --output-dir=/content/atividade\n",
        "print('\\nTop 10 Entradas da atividade')\n",
        "!cat /content/atividade/* | sort -k2,2rn -t$'\\t' | head -10"
      ],
      "metadata": {
        "id": "eny-_aXYyjKE",
        "colab": {
          "base_uri": "https://localhost:8080/"
        },
        "outputId": "e53100d9-715a-480a-ee4f-d8aab5a40daa"
      },
      "execution_count": null,
      "outputs": [
        {
          "output_type": "stream",
          "name": "stdout",
          "text": [
            "No configs found; falling back on auto-configuration\n",
            "No configs specified for inline runner\n",
            "Running step 1 of 1...\n",
            "Creating temp directory /tmp/pratica.root.20240808.003633.440429\n",
            "job output is in /content/atividade\n",
            "Removing temp directory /tmp/pratica.root.20240808.003633.440429...\n",
            "\n",
            "Top 10 Entradas da atividade\n",
            "\"2012\"\t1628\n",
            "\"2013\"\t1621\n",
            "\"2003\"\t1580\n",
            "\"2010\"\t1571\n",
            "\"2014\"\t1568\n",
            "\"2011\"\t1566\n",
            "\"2001\"\t1557\n",
            "\"2015\"\t1551\n",
            "\"2000\"\t1549\n",
            "\"2007\"\t1538\n"
          ]
        }
      ]
    },
    {
      "cell_type": "markdown",
      "source": [
        "Teste com base completa"
      ],
      "metadata": {
        "id": "z4kWzYVRyjKE"
      }
    },
    {
      "cell_type": "code",
      "source": [
        "!rm -rf /content/atividade\n",
        "!python pratica.py /content/base.csv --output-dir=/content/atividade\n",
        "print('\\nTop 10 Entradas da atividade')\n",
        "!cat /content/atividade/* | sort -k2,2rn -t$'\\t' | head -10"
      ],
      "metadata": {
        "id": "hvin6ScgyjKE",
        "colab": {
          "base_uri": "https://localhost:8080/"
        },
        "outputId": "df2bf7e9-eafd-4930-bab5-607ef0eaf657"
      },
      "execution_count": null,
      "outputs": [
        {
          "output_type": "stream",
          "name": "stdout",
          "text": [
            "No configs found; falling back on auto-configuration\n",
            "No configs specified for inline runner\n",
            "Running step 1 of 1...\n",
            "Creating temp directory /tmp/pratica.root.20240808.003643.471882\n",
            "job output is in /content/atividade\n",
            "Removing temp directory /tmp/pratica.root.20240808.003643.471882...\n",
            "\n",
            "Top 10 Entradas da atividade\n",
            "\"2012\"\t137457\n",
            "\"2011\"\t137418\n",
            "\"2010\"\t137198\n",
            "\"2009\"\t136645\n",
            "\"2006\"\t135996\n",
            "\"2007\"\t135855\n",
            "\"2013\"\t135501\n",
            "\"2005\"\t133867\n",
            "\"2014\"\t133270\n",
            "\"2008\"\t133210\n"
          ]
        }
      ]
    },
    {
      "cell_type": "code",
      "source": [],
      "metadata": {
        "id": "q-bLnjYLyjKF"
      },
      "execution_count": null,
      "outputs": []
    },
    {
      "cell_type": "code",
      "source": [],
      "metadata": {
        "id": "Ahv4igj0u5K5"
      },
      "execution_count": null,
      "outputs": []
    },
    {
      "cell_type": "markdown",
      "source": [
        "### Informação 4\n",
        " - Mercadoria com maior quantidade de transações financeiras;"
      ],
      "metadata": {
        "id": "fPD9zvZpyn86"
      }
    },
    {
      "cell_type": "code",
      "source": [
        "%%file pratica.py\n",
        "from mrjob.job import MRJob\n",
        "import sys\n",
        "\n",
        "class WordCount(MRJob):\n",
        "    def mapper(self, _, linha):\n",
        "      campos = linha.split(';')\n",
        "      mercadoria = campos[3]\n",
        "      yield(mercadoria, 1)\n",
        "\n",
        "    def reducer(self, chave, valores):\n",
        "      yield(chave, sum(list(valores)))\n",
        "\n",
        "if __name__ == '__main__':\n",
        "     WordCount.run()"
      ],
      "metadata": {
        "id": "kwD8KEQwyn8_",
        "colab": {
          "base_uri": "https://localhost:8080/"
        },
        "outputId": "0ec38d00-53fc-4f54-b4c0-9c36b190c3a2"
      },
      "execution_count": null,
      "outputs": [
        {
          "output_type": "stream",
          "name": "stdout",
          "text": [
            "Overwriting pratica.py\n"
          ]
        }
      ]
    },
    {
      "cell_type": "markdown",
      "source": [
        "Teste prévio com base parcial"
      ],
      "metadata": {
        "id": "WF0iV2oVyn8_"
      }
    },
    {
      "cell_type": "code",
      "source": [
        "!rm -rf /content/atividade\n",
        "!python pratica.py /content/base_sample.csv --output-dir=/content/atividade\n",
        "print('\\nTop 10 Entradas da atividade')\n",
        "!cat /content/atividade/* | sort -k2,2rn -t$'\\t' | head -10"
      ],
      "metadata": {
        "id": "B6vjFM_myn8_",
        "colab": {
          "base_uri": "https://localhost:8080/"
        },
        "outputId": "5e0026b3-12c4-4956-d41d-14d263aba65d"
      },
      "execution_count": null,
      "outputs": [
        {
          "output_type": "stream",
          "name": "stdout",
          "text": [
            "No configs found; falling back on auto-configuration\n",
            "No configs specified for inline runner\n",
            "Running step 1 of 1...\n",
            "Creating temp directory /tmp/pratica.root.20240808.003904.655985\n",
            "job output is in /content/atividade\n",
            "Removing temp directory /tmp/pratica.root.20240808.003904.655985...\n",
            "\n",
            "Top 10 Entradas da atividade\n",
            "\"Animals, live, except farm animals\"\t4413\n",
            "\"Fowls, live domestic < 185 grams\"\t3383\n",
            "\"Horses, live except pure-bred breeding\"\t3331\n",
            "\"Horses, live pure-bred breeding\"\t2971\n",
            "\"Bovine animals, live, except pure-bred breeding\"\t2758\n",
            "\"Poultry, live except domestic fowls, < 185 grams\"\t2494\n",
            "\"Bovine animals, live pure-bred breeding\"\t2490\n",
            "\"Sheep, live\"\t2287\n",
            "\"Goats, live\"\t2002\n",
            "\"Poultry, live except domestic fowls, > 185 grams\"\t1991\n"
          ]
        }
      ]
    },
    {
      "cell_type": "markdown",
      "source": [
        "Teste com base completa"
      ],
      "metadata": {
        "id": "QTri17_Zyn8_"
      }
    },
    {
      "cell_type": "code",
      "source": [
        "!rm -rf /content/atividade\n",
        "!python pratica.py /content/base.csv --output-dir=/content/atividade\n",
        "print('\\nTop 10 Entradas da atividade')\n",
        "!cat /content/atividade/* | sort -k2,2rn -t$'\\t' | head -10"
      ],
      "metadata": {
        "id": "2htfylGCyn8_"
      },
      "execution_count": null,
      "outputs": []
    },
    {
      "cell_type": "code",
      "source": [],
      "metadata": {
        "id": "fkO_RJ3syn8_"
      },
      "execution_count": null,
      "outputs": []
    },
    {
      "cell_type": "code",
      "source": [],
      "metadata": {
        "id": "bp16PeVuu5Ic"
      },
      "execution_count": null,
      "outputs": []
    },
    {
      "cell_type": "markdown",
      "source": [
        "### Informação 5\n",
        " - Mercadoria com maior quantidade de transações financeiras em 2016"
      ],
      "metadata": {
        "id": "4utZ6Yq9yrFq"
      }
    },
    {
      "cell_type": "code",
      "source": [
        "%%file pratica.py\n",
        "from mrjob.job import MRJob\n",
        "import sys\n",
        "\n",
        "class WordCount(MRJob):\n",
        "    def mapper(self, _, linha):\n",
        "      try:\n",
        "        campos = linha.split(';')\n",
        "        mercadoria = campos[3]\n",
        "        if campos[1] == '2016':\n",
        "          yield(mercadoria,1)\n",
        "      except:\n",
        "        pass\n",
        "\n",
        "    def reducer(self, chave, valores):\n",
        "      yield(chave, sum(list(valores)))\n",
        "\n",
        "if __name__ == '__main__':\n",
        "     WordCount.run()"
      ],
      "metadata": {
        "id": "_ErOALrAyrFv",
        "colab": {
          "base_uri": "https://localhost:8080/"
        },
        "outputId": "67713f7e-e7f4-487e-b15d-9db59a18e1eb"
      },
      "execution_count": null,
      "outputs": [
        {
          "output_type": "stream",
          "name": "stdout",
          "text": [
            "Overwriting pratica.py\n"
          ]
        }
      ]
    },
    {
      "cell_type": "markdown",
      "source": [
        "Teste prévio com base parcial"
      ],
      "metadata": {
        "id": "mAnHtbF0yrFv"
      }
    },
    {
      "cell_type": "code",
      "source": [
        "!rm -rf /content/atividade\n",
        "!python pratica.py /content/base_sample.csv --output-dir=/content/atividade\n",
        "print('\\nTop 10 Entradas da atividade')\n",
        "!cat /content/atividade/* | sort -k2,2rn -t$'\\t' | head -10"
      ],
      "metadata": {
        "id": "TypZLtILyrFv",
        "colab": {
          "base_uri": "https://localhost:8080/"
        },
        "outputId": "01751517-258f-4eb1-bf7a-29122c3b9e22"
      },
      "execution_count": null,
      "outputs": [
        {
          "output_type": "stream",
          "name": "stdout",
          "text": [
            "No configs found; falling back on auto-configuration\n",
            "No configs specified for inline runner\n",
            "Running step 1 of 1...\n",
            "Creating temp directory /tmp/pratica.root.20240808.004130.469854\n",
            "job output is in /content/atividade\n",
            "Removing temp directory /tmp/pratica.root.20240808.004130.469854...\n",
            "\n",
            "Top 10 Entradas da atividade\n",
            "\"Animals, live, except farm animals\"\t161\n",
            "\"Horses, live except pure-bred breeding\"\t121\n",
            "\"Fowls, live domestic < 185 grams\"\t119\n",
            "\"Horses, live pure-bred breeding\"\t107\n",
            "\"Bovine animals, live, except pure-bred breeding\"\t98\n",
            "\"Bovine animals, live pure-bred breeding\"\t89\n",
            "\"Sheep, live\"\t86\n",
            "\"Swine, live pure-bred breeding\"\t71\n",
            "\"Goats, live\"\t70\n",
            "\"Poultry, live except domestic fowls, > 185 grams\"\t69\n"
          ]
        }
      ]
    },
    {
      "cell_type": "markdown",
      "source": [
        "Teste com base completa"
      ],
      "metadata": {
        "id": "vSmaRLqhyrFv"
      }
    },
    {
      "cell_type": "code",
      "source": [
        "!rm -rf /content/atividade\n",
        "!python pratica.py /content/base.csv --output-dir=/content/atividade\n",
        "print('\\nTop 10 Entradas da atividade')\n",
        "!cat /content/atividade/* | sort -k2,2rn -t$'\\t' | head -10"
      ],
      "metadata": {
        "id": "y9KUZH7UyrFv"
      },
      "execution_count": null,
      "outputs": []
    },
    {
      "cell_type": "code",
      "source": [],
      "metadata": {
        "id": "4YS5c4MCyrFv"
      },
      "execution_count": null,
      "outputs": []
    },
    {
      "cell_type": "code",
      "source": [],
      "metadata": {
        "id": "Rge_TgkAu5F4"
      },
      "execution_count": null,
      "outputs": []
    },
    {
      "cell_type": "markdown",
      "source": [
        "### Informação 6\n",
        " - Mercadoria com maior quantidade de transações financeiras em 2016, no Brasil (como a base de dados está em inglês utilize Brazil, com Z);"
      ],
      "metadata": {
        "id": "APUwOzdyyvpe"
      }
    },
    {
      "cell_type": "code",
      "source": [
        "%%file pratica.py\n",
        "from mrjob.job import MRJob\n",
        "import sys\n",
        "\n",
        "class WordCount(MRJob):\n",
        "    def mapper(self, _, linha):\n",
        "      try:\n",
        "        campos = linha.split(';')\n",
        "        mercadoria = campos[3]\n",
        "        if campos[1] == '2016' and campos[0] == 'Brazil':\n",
        "          yield(mercadoria,1)\n",
        "      except:\n",
        "        pass\n",
        "\n",
        "    def reducer(self, chave, valores):\n",
        "      yield(chave, sum(list(valores)))\n",
        "\n",
        "if __name__ == '__main__':\n",
        "     WordCount.run()"
      ],
      "metadata": {
        "id": "SbaG0ezVyvpk",
        "colab": {
          "base_uri": "https://localhost:8080/"
        },
        "outputId": "71a9ba5e-38c5-45c4-b03d-dc5fb0c18025"
      },
      "execution_count": null,
      "outputs": [
        {
          "output_type": "stream",
          "name": "stdout",
          "text": [
            "Overwriting pratica.py\n"
          ]
        }
      ]
    },
    {
      "cell_type": "markdown",
      "source": [
        "Teste prévio com base parcial"
      ],
      "metadata": {
        "id": "F3Y6CycEyvpk"
      }
    },
    {
      "cell_type": "code",
      "source": [
        "!rm -rf /content/atividade\n",
        "!python pratica.py /content/base_sample.csv --output-dir=/content/atividade\n",
        "print('\\nTop 10 Entradas da atividade')\n",
        "!cat /content/atividade/* | sort -k2,2rn -t$'\\t' | head -10"
      ],
      "metadata": {
        "id": "mbiO7Tugyvpk",
        "colab": {
          "base_uri": "https://localhost:8080/"
        },
        "outputId": "a4084880-bf47-4d43-bf92-ede22521b6fb"
      },
      "execution_count": null,
      "outputs": [
        {
          "output_type": "stream",
          "name": "stdout",
          "text": [
            "No configs found; falling back on auto-configuration\n",
            "No configs specified for inline runner\n",
            "Running step 1 of 1...\n",
            "Creating temp directory /tmp/pratica.root.20240808.004339.743624\n",
            "job output is in /content/atividade\n",
            "Removing temp directory /tmp/pratica.root.20240808.004339.743624...\n",
            "\n",
            "Top 10 Entradas da atividade\n",
            "\"Animals, live, except farm animals\"\t2\n",
            "\"Bovine animals, live, except pure-bred breeding\"\t2\n",
            "\"Bovine animals, live pure-bred breeding\"\t2\n",
            "\"Fowls, live domestic < 185 grams\"\t2\n",
            "\"Horses, live except pure-bred breeding\"\t2\n",
            "\"Horses, live pure-bred breeding\"\t2\n",
            "\"Swine, live pure-bred breeding\"\t2\n",
            "\"Fowls, live domestic > 185 grams\"\t1\n",
            "\"Sheep, live\"\t1\n",
            "\"Swine, live except pure-bred breeding < 50 kg\"\t1\n"
          ]
        }
      ]
    },
    {
      "cell_type": "markdown",
      "source": [
        "Teste com base completa"
      ],
      "metadata": {
        "id": "NqlnhhIayvpk"
      }
    },
    {
      "cell_type": "code",
      "source": [
        "!rm -rf /content/atividade\n",
        "!python pratica.py /content/base.csv --output-dir=/content/atividade\n",
        "print('\\nTop 10 Entradas da atividade')\n",
        "!cat /content/atividade/* | sort -k2,2rn -t$'\\t' | head -10"
      ],
      "metadata": {
        "id": "tbIqSMX2yvpk"
      },
      "execution_count": null,
      "outputs": []
    },
    {
      "cell_type": "code",
      "source": [],
      "metadata": {
        "id": "qlGdNFBzu5Dg"
      },
      "execution_count": null,
      "outputs": []
    },
    {
      "cell_type": "code",
      "source": [],
      "metadata": {
        "id": "3Y2AxxGvu5A8"
      },
      "execution_count": null,
      "outputs": []
    },
    {
      "cell_type": "code",
      "source": [],
      "metadata": {
        "id": "wNBGMv9fu4-f"
      },
      "execution_count": null,
      "outputs": []
    },
    {
      "cell_type": "markdown",
      "source": [
        "### Informação 7\n",
        " - Mercadoria com maior total de peso, de acordo com todas transações comerciais;"
      ],
      "metadata": {
        "id": "RvBTwoeJyz-3"
      }
    },
    {
      "cell_type": "code",
      "source": [
        "%%file pratica.py\n",
        "from mrjob.job import MRJob\n",
        "import sys\n",
        "\n",
        "class WordCount(MRJob):\n",
        "    def mapper(self, _, linha):\n",
        "      try:\n",
        "        campos = linha.split(';')\n",
        "        mercadoria = campos[3]\n",
        "        peso = int(campos[6])\n",
        "        yield(mercadoria,peso)\n",
        "      except:\n",
        "          pass\n",
        "\n",
        "    def reducer(self, chave, valores):\n",
        "      yield(chave, sum(list(valores)))\n",
        "\n",
        "if __name__ == '__main__':\n",
        "     WordCount.run()"
      ],
      "metadata": {
        "id": "WczDWkUlyz-4",
        "colab": {
          "base_uri": "https://localhost:8080/"
        },
        "outputId": "c3bf6137-7f1c-4b2b-94e4-6c7f135d4d43"
      },
      "execution_count": null,
      "outputs": [
        {
          "output_type": "stream",
          "name": "stdout",
          "text": [
            "Overwriting pratica.py\n"
          ]
        }
      ]
    },
    {
      "cell_type": "markdown",
      "source": [
        "Teste prévio com base parcial"
      ],
      "metadata": {
        "id": "uTADJ3X1yz-4"
      }
    },
    {
      "cell_type": "code",
      "source": [
        "!rm -rf /content/atividade\n",
        "!python pratica.py /content/base_sample.csv --output-dir=/content/atividade\n",
        "print('\\nTop 10 Entradas da atividade')\n",
        "!cat /content/atividade/* | sort -k2,2rn -t$'\\t' | head -10"
      ],
      "metadata": {
        "id": "KsmAF-rfyz-4",
        "colab": {
          "base_uri": "https://localhost:8080/"
        },
        "outputId": "ad6deb74-f7e3-470c-8e9f-8af8cb1fd517"
      },
      "execution_count": null,
      "outputs": [
        {
          "output_type": "stream",
          "name": "stdout",
          "text": [
            "No configs found; falling back on auto-configuration\n",
            "No configs specified for inline runner\n",
            "Running step 1 of 1...\n",
            "Creating temp directory /tmp/pratica.root.20240808.004612.828791\n",
            "job output is in /content/atividade\n",
            "Removing temp directory /tmp/pratica.root.20240808.004612.828791...\n",
            "\n",
            "Top 10 Entradas da atividade\n",
            "\"Bovine animals, live, except pure-bred breeding\"\t72350442141\n",
            "\"Swine, live except pure-bred breeding > 50 kg\"\t38798669146\n",
            "\"Fowls, live domestic > 185 grams\"\t18665789461\n",
            "\"Sheep, live\"\t13771569405\n",
            "\"Swine, live except pure-bred breeding < 50 kg\"\t12228873816\n",
            "\"Bovine animals, live pure-bred breeding\"\t7733896254\n",
            "\"Poultry, live except domestic fowls, > 185 grams\"\t4546972430\n",
            "\"Horses, live except pure-bred breeding\"\t2396204313\n",
            "\"Animals, live, except farm animals\"\t1469485365\n",
            "\"Fowls, live domestic < 185 grams\"\t1404224958\n"
          ]
        }
      ]
    },
    {
      "cell_type": "markdown",
      "source": [
        "Teste com base completa"
      ],
      "metadata": {
        "id": "HL-Wyb31yz-4"
      }
    },
    {
      "cell_type": "code",
      "source": [
        "!rm -rf /content/atividade\n",
        "!python pratica.py /content/base.csv --output-dir=/content/atividade\n",
        "print('\\nTop 10 Entradas da atividade')\n",
        "!cat /content/atividade/* | sort -k2,2rn -t$'\\t' | head -10"
      ],
      "metadata": {
        "id": "JnVrO-8jyz-4"
      },
      "execution_count": null,
      "outputs": []
    },
    {
      "cell_type": "code",
      "source": [],
      "metadata": {
        "id": "ImGJNqpEu48B"
      },
      "execution_count": null,
      "outputs": []
    },
    {
      "cell_type": "code",
      "source": [],
      "metadata": {
        "id": "u2so-zAMu45j"
      },
      "execution_count": null,
      "outputs": []
    },
    {
      "cell_type": "code",
      "source": [],
      "metadata": {
        "id": "WwUdKFhmu43O"
      },
      "execution_count": null,
      "outputs": []
    },
    {
      "cell_type": "markdown",
      "source": [
        "### Informação 8\n",
        " - Mercadoria com maior total de peso, de acordo com todas transações comerciais, separadas de acordo com o ano;"
      ],
      "metadata": {
        "id": "SobP-0thy4ju"
      }
    },
    {
      "cell_type": "code",
      "source": [
        "%%file pratica.py\n",
        "from mrjob.job import MRJob\n",
        "import sys\n",
        "\n",
        "class WordCount(MRJob):\n",
        "    def mapper(self, _, linha):\n",
        "      try:\n",
        "        campos = linha.split(';')\n",
        "        ano = campos[1]\n",
        "        mercadoria = campos[3]\n",
        "        chave = \",\".join([mercadoria, ano])\n",
        "        peso = int(campos[6])\n",
        "        yield(chave,peso)\n",
        "      except:\n",
        "        pass\n",
        "\n",
        "    def reducer(self, chave, valores):\n",
        "      yield(chave, sum(list(valores)))\n",
        "\n",
        "if __name__ == '__main__':\n",
        "     WordCount.run()"
      ],
      "metadata": {
        "id": "05zNdsbHy4jz",
        "colab": {
          "base_uri": "https://localhost:8080/"
        },
        "outputId": "a192475c-a832-48b9-fdd8-35ce09f6166a"
      },
      "execution_count": null,
      "outputs": [
        {
          "output_type": "stream",
          "name": "stdout",
          "text": [
            "Overwriting pratica.py\n"
          ]
        }
      ]
    },
    {
      "cell_type": "markdown",
      "source": [
        "Teste prévio com base parcial"
      ],
      "metadata": {
        "id": "tmMJjUvgy4jz"
      }
    },
    {
      "cell_type": "code",
      "source": [
        "!rm -rf /content/atividade\n",
        "!python pratica.py /content/base_sample.csv --output-dir=/content/atividade\n",
        "print('\\nTop 10 Entradas da atividade')\n",
        "!cat /content/atividade/* | sort -k2,2rn -t$'\\t' | head -10"
      ],
      "metadata": {
        "id": "KbnBoKTRy4jz",
        "colab": {
          "base_uri": "https://localhost:8080/"
        },
        "outputId": "d42ecd33-8ad7-4545-ec8a-70c487dc2b4b"
      },
      "execution_count": null,
      "outputs": [
        {
          "output_type": "stream",
          "name": "stdout",
          "text": [
            "No configs found; falling back on auto-configuration\n",
            "No configs specified for inline runner\n",
            "Running step 1 of 1...\n",
            "Creating temp directory /tmp/pratica.root.20240808.005216.801181\n",
            "job output is in /content/atividade\n",
            "Removing temp directory /tmp/pratica.root.20240808.005216.801181...\n",
            "\n",
            "Top 10 Entradas da atividade\n",
            "\"Bovine animals, live, except pure-bred breeding,2011\"\t3790561468\n",
            "\"Bovine animals, live, except pure-bred breeding,2010\"\t3725385865\n",
            "\"Bovine animals, live, except pure-bred breeding,2009\"\t3667337654\n",
            "\"Bovine animals, live, except pure-bred breeding,2007\"\t3582928269\n",
            "\"Bovine animals, live, except pure-bred breeding,2012\"\t3532005526\n",
            "\"Bovine animals, live, except pure-bred breeding,2006\"\t3474206442\n",
            "\"Bovine animals, live, except pure-bred breeding,2008\"\t3438256284\n",
            "\"Bovine animals, live, except pure-bred breeding,2013\"\t3438146811\n",
            "\"Bovine animals, live, except pure-bred breeding,2015\"\t3430878298\n",
            "\"Bovine animals, live, except pure-bred breeding,2005\"\t3358493111\n"
          ]
        }
      ]
    },
    {
      "cell_type": "markdown",
      "source": [
        "Teste com base completa"
      ],
      "metadata": {
        "id": "7EGKWFCLy4jz"
      }
    },
    {
      "cell_type": "code",
      "source": [
        "!rm -rf /content/atividade\n",
        "!python pratica.py /content/base.csv --output-dir=/content/atividade\n",
        "print('\\nTop 10 Entradas da atividade')\n",
        "!cat /content/atividade/* | sort -k2,2rn -t$'\\t' | head -10"
      ],
      "metadata": {
        "id": "9ejLxdx3y4jz"
      },
      "execution_count": null,
      "outputs": []
    },
    {
      "cell_type": "code",
      "source": [],
      "metadata": {
        "id": "ImpdBWW2u40o"
      },
      "execution_count": null,
      "outputs": []
    },
    {
      "cell_type": "code",
      "source": [],
      "metadata": {
        "id": "1sKqEUjZu4yL"
      },
      "execution_count": null,
      "outputs": []
    },
    {
      "cell_type": "markdown",
      "source": [
        "### Informação 9\n",
        " - Média de peso por mercadoria, separadas de acordo com o ano;"
      ],
      "metadata": {
        "id": "ZUWxo-TLy_8l"
      }
    },
    {
      "cell_type": "code",
      "source": [
        "%%file pratica.py\n",
        "from mrjob.job import MRJob\n",
        "import sys\n",
        "\n",
        "class WordCount(MRJob):\n",
        "    def mapper(self, _, linha):\n",
        "      try:\n",
        "        campos = linha.split(';')\n",
        "        ano = campos[1]\n",
        "        mercadoria = campos[3]\n",
        "        chave = mercadoria+ ano\n",
        "        peso = int(campos[6])\n",
        "        yield(chave,peso)\n",
        "      except:\n",
        "        pass\n",
        "\n",
        "    def reducer(self, chave, valores):\n",
        "      lista = list(valores)\n",
        "      yield(chave, (sum(lista)/len(lista)))\n",
        "\n",
        "if __name__ == '__main__':\n",
        "     WordCount.run()"
      ],
      "metadata": {
        "id": "wUGiqVIZy_8q",
        "colab": {
          "base_uri": "https://localhost:8080/"
        },
        "outputId": "f0b1cfad-ef58-4405-9992-c8192783d7c6"
      },
      "execution_count": null,
      "outputs": [
        {
          "output_type": "stream",
          "name": "stdout",
          "text": [
            "Overwriting pratica.py\n"
          ]
        }
      ]
    },
    {
      "cell_type": "markdown",
      "source": [
        "Teste prévio com base parcial"
      ],
      "metadata": {
        "id": "bGRepZuCy_8q"
      }
    },
    {
      "cell_type": "code",
      "source": [
        "!rm -rf /content/atividade\n",
        "!python pratica.py /content/base_sample.csv --output-dir=/content/atividade\n",
        "print('\\nTop 10 Entradas da atividade')\n",
        "!cat /content/atividade/* | sort -k2,2rn -t$'\\t' | head -10"
      ],
      "metadata": {
        "id": "crWXiZyfy_8q",
        "colab": {
          "base_uri": "https://localhost:8080/"
        },
        "outputId": "a69382de-3846-4a5a-cac9-9e1f747f1144"
      },
      "execution_count": null,
      "outputs": [
        {
          "output_type": "stream",
          "name": "stdout",
          "text": [
            "No configs found; falling back on auto-configuration\n",
            "No configs specified for inline runner\n",
            "Running step 1 of 1...\n",
            "Creating temp directory /tmp/pratica.root.20240808.010216.813549\n",
            "job output is in /content/atividade\n",
            "Removing temp directory /tmp/pratica.root.20240808.010216.813549...\n",
            "\n",
            "Top 10 Entradas da atividade\n",
            "\"Sheep, live1988\"\t54003615.0\n",
            "\"Swine, live except pure-bred breeding > 50 kg2008\"\t43181538.152542375\n",
            "\"Swine, live except pure-bred breeding > 50 kg2011\"\t36794547.88888889\n",
            "\"Swine, live except pure-bred breeding > 50 kg2013\"\t35665136.307692304\n",
            "\"Swine, live except pure-bred breeding > 50 kg1988\"\t35478237.5\n",
            "\"Swine, live except pure-bred breeding > 50 kg2014\"\t34317240.484375\n",
            "\"Fowls, live domestic > 185 grams2016\"\t33725574.385964915\n",
            "\"Swine, live except pure-bred breeding > 50 kg2007\"\t32519872.38596491\n",
            "\"Swine, live except pure-bred breeding > 50 kg2016\"\t32402963.825396825\n",
            "\"Swine, live except pure-bred breeding > 50 kg2009\"\t32227585.830985915\n"
          ]
        }
      ]
    },
    {
      "cell_type": "markdown",
      "source": [
        "Teste com base completa"
      ],
      "metadata": {
        "id": "SZtzQlWCy_8q"
      }
    },
    {
      "cell_type": "code",
      "source": [
        "!rm -rf /content/atividade\n",
        "!python pratica.py /content/base.csv --output-dir=/content/atividade\n",
        "print('\\nTop 10 Entradas da atividade')\n",
        "!cat /content/atividade/* | sort -k2,2rn -t$'\\t' | head -10"
      ],
      "metadata": {
        "id": "aGJtrY9Ky_8q"
      },
      "execution_count": null,
      "outputs": []
    },
    {
      "cell_type": "code",
      "source": [],
      "metadata": {
        "id": "i2sb5M-Hu4vv"
      },
      "execution_count": null,
      "outputs": []
    },
    {
      "cell_type": "code",
      "source": [],
      "metadata": {
        "id": "snNWyrcwu4tI"
      },
      "execution_count": null,
      "outputs": []
    },
    {
      "cell_type": "code",
      "source": [],
      "metadata": {
        "id": "YX0xtSmYu4qj"
      },
      "execution_count": null,
      "outputs": []
    },
    {
      "cell_type": "markdown",
      "source": [
        "### Informação 10\n",
        " - Média de peso por mercadoria comercializadas no Brasil (como a base de dados está em inglês utilize Brazil, com Z), separadas de acordo com o ano;"
      ],
      "metadata": {
        "id": "stoST7dWzDlr"
      }
    },
    {
      "cell_type": "code",
      "source": [
        "%%file pratica.py\n",
        "from mrjob.job import MRJob\n",
        "import sys\n",
        "\n",
        "class WordCount(MRJob):\n",
        "    def mapper(self, _, linha):\n",
        "      try:\n",
        "        campos = linha.split(';')\n",
        "        ano = campos[1]\n",
        "        mercadoria = campos[3]\n",
        "        chave = mercadoria+ ano\n",
        "        peso = int(campos[6])\n",
        "        if campos[0] == 'Brazil':\n",
        "          yield(chave,peso)\n",
        "      except:\n",
        "        pass\n",
        "\n",
        "    def reducer(self, chave, valores):\n",
        "      lista = list(valores)\n",
        "      yield(chave, (sum(lista)/len(lista)))\n",
        "\n",
        "if __name__ == '__main__':\n",
        "     WordCount.run()"
      ],
      "metadata": {
        "id": "LqEgvFWfzDlw",
        "colab": {
          "base_uri": "https://localhost:8080/"
        },
        "outputId": "074d9356-b434-4f79-9c12-e55364b37dff"
      },
      "execution_count": null,
      "outputs": [
        {
          "output_type": "stream",
          "name": "stdout",
          "text": [
            "Overwriting pratica.py\n"
          ]
        }
      ]
    },
    {
      "cell_type": "markdown",
      "source": [
        "Teste prévio com base parcial"
      ],
      "metadata": {
        "id": "jn2yrbtYzDlw"
      }
    },
    {
      "cell_type": "code",
      "source": [
        "!rm -rf /content/atividade\n",
        "!python pratica.py /content/base_sample.csv --output-dir=/content/atividade\n",
        "print('\\nTop 10 Entradas da atividade')\n",
        "!cat /content/atividade/* | sort -k2,2rn -t$'\\t' | head -10"
      ],
      "metadata": {
        "id": "RCBvxdoizDlw",
        "colab": {
          "base_uri": "https://localhost:8080/"
        },
        "outputId": "1efaa87d-488d-416a-981c-9da70d0ef60c"
      },
      "execution_count": null,
      "outputs": [
        {
          "output_type": "stream",
          "name": "stdout",
          "text": [
            "No configs found; falling back on auto-configuration\n",
            "No configs specified for inline runner\n",
            "Running step 1 of 1...\n",
            "Creating temp directory /tmp/pratica.root.20240808.011201.794632\n",
            "job output is in /content/atividade\n",
            "Removing temp directory /tmp/pratica.root.20240808.011201.794632...\n",
            "\n",
            "Top 10 Entradas da atividade\n",
            "\"Bovine animals, live, except pure-bred breeding2010\"\t163259108.0\n",
            "\"Bovine animals, live, except pure-bred breeding2013\"\t161980315.0\n",
            "\"Bovine animals, live, except pure-bred breeding2014\"\t151681448.5\n",
            "\"Bovine animals, live, except pure-bred breeding2009\"\t134964128.0\n",
            "\"Bovine animals, live, except pure-bred breeding2012\"\t121096675.0\n",
            "\"Bovine animals, live, except pure-bred breeding2008\"\t105512865.5\n",
            "\"Bovine animals, live, except pure-bred breeding2007\"\t102115793.5\n",
            "\"Bovine animals, live, except pure-bred breeding2011\"\t98217470.0\n",
            "\"Bovine animals, live, except pure-bred breeding1995\"\t63394422.0\n",
            "\"Bovine animals, live, except pure-bred breeding1994\"\t52523980.0\n"
          ]
        }
      ]
    },
    {
      "cell_type": "markdown",
      "source": [
        "Teste com base completa"
      ],
      "metadata": {
        "id": "pqkdrGRHzDlw"
      }
    },
    {
      "cell_type": "code",
      "source": [
        "!rm -rf /content/atividade\n",
        "!python pratica.py /content/base.csv --output-dir=/content/atividade\n",
        "print('\\nTop 10 Entradas da atividade')\n",
        "!cat /content/atividade/* | sort -k2,2rn -t$'\\t' | head -10"
      ],
      "metadata": {
        "id": "kenl676YzDlw"
      },
      "execution_count": null,
      "outputs": []
    },
    {
      "cell_type": "code",
      "source": [],
      "metadata": {
        "id": "zR6d-2dEu4oN"
      },
      "execution_count": null,
      "outputs": []
    },
    {
      "cell_type": "code",
      "source": [],
      "metadata": {
        "id": "STqmBgGAzIOS"
      },
      "execution_count": null,
      "outputs": []
    },
    {
      "cell_type": "code",
      "source": [],
      "metadata": {
        "id": "j78H_MabzIMJ"
      },
      "execution_count": null,
      "outputs": []
    },
    {
      "cell_type": "markdown",
      "source": [
        "### Informação 11\n",
        " - Média de peso por mercadoria comercializadas no Brasil (como a base de dados está em inglês utilize Brazil, com Z), em relação ao fluxo, separadas de acordo com o ano;"
      ],
      "metadata": {
        "id": "oLFGzyoDzIcI"
      }
    },
    {
      "cell_type": "code",
      "source": [
        "%%file pratica.py\n",
        "from mrjob.job import MRJob\n",
        "import sys\n",
        "\n",
        "class WordCount(MRJob):\n",
        "    def mapper(self, _, linha):\n",
        "      try:\n",
        "        campos = linha.split(';')\n",
        "        ano = campos[1]\n",
        "        mercadoria = campos[3]\n",
        "        fluxo = campos[4]\n",
        "        chave = mercadoria+fluxo+ ano\n",
        "        peso = int(campos[6])\n",
        "        if campos[0] == 'Brazil':\n",
        "          yield(chave,peso)\n",
        "      except:\n",
        "        pass\n",
        "\n",
        "    def reducer(self, chave, valores):\n",
        "      lista = list(valores)\n",
        "      yield(chave, (sum(lista)/len(lista)))\n",
        "\n",
        "if __name__ == '__main__':\n",
        "     WordCount.run()"
      ],
      "metadata": {
        "id": "GNxK82UzzIcI",
        "colab": {
          "base_uri": "https://localhost:8080/"
        },
        "outputId": "7968d058-be46-4783-d911-e70a1b879751"
      },
      "execution_count": null,
      "outputs": [
        {
          "output_type": "stream",
          "name": "stdout",
          "text": [
            "Overwriting pratica.py\n"
          ]
        }
      ]
    },
    {
      "cell_type": "markdown",
      "source": [
        "Teste prévio com base parcial"
      ],
      "metadata": {
        "id": "JS_IRVTpzIcI"
      }
    },
    {
      "cell_type": "code",
      "source": [
        "!rm -rf /content/atividade\n",
        "!python pratica.py /content/base_sample.csv --output-dir=/content/atividade\n",
        "print('\\nTop 10 Entradas da atividade')\n",
        "!cat /content/atividade/* | sort -k2,2rn -t$'\\t' | head -10"
      ],
      "metadata": {
        "id": "haWm3EZFzIcI",
        "colab": {
          "base_uri": "https://localhost:8080/"
        },
        "outputId": "d25189a3-88a6-4eae-c7d7-0c8ad1006968"
      },
      "execution_count": null,
      "outputs": [
        {
          "output_type": "stream",
          "name": "stdout",
          "text": [
            "No configs found; falling back on auto-configuration\n",
            "No configs specified for inline runner\n",
            "Running step 1 of 1...\n",
            "Creating temp directory /tmp/pratica.root.20240808.011746.630717\n",
            "job output is in /content/atividade\n",
            "Removing temp directory /tmp/pratica.root.20240808.011746.630717...\n",
            "\n",
            "Top 10 Entradas da atividade\n",
            "\"Bovine animals, live, except pure-bred breedingExport2013\"\t323951180.0\n",
            "\"Bovine animals, live, except pure-bred breedingExport2010\"\t323732156.0\n",
            "\"Bovine animals, live, except pure-bred breedingExport2014\"\t298824624.0\n",
            "\"Bovine animals, live, except pure-bred breedingExport2009\"\t257772216.0\n",
            "\"Bovine animals, live, except pure-bred breedingExport2012\"\t242159350.0\n",
            "\"Bovine animals, live, except pure-bred breedingExport2007\"\t199888037.0\n",
            "\"Bovine animals, live, except pure-bred breedingExport2011\"\t194178940.0\n",
            "\"Bovine animals, live, except pure-bred breedingExport2008\"\t193144870.0\n",
            "\"Bovine animals, live, except pure-bred breedingImport1995\"\t126427408.0\n",
            "\"Bovine animals, live, except pure-bred breedingImport1994\"\t104899312.0\n"
          ]
        }
      ]
    },
    {
      "cell_type": "markdown",
      "source": [
        "Teste com base completa"
      ],
      "metadata": {
        "id": "35fJu3DdzIcI"
      }
    },
    {
      "cell_type": "code",
      "source": [
        "!rm -rf /content/atividade\n",
        "!python pratica.py /content/base.csv --output-dir=/content/atividade\n",
        "print('\\nTop 10 Entradas da atividade')\n",
        "!cat /content/atividade/* | sort -k2,2rn -t$'\\t' | head -10"
      ],
      "metadata": {
        "id": "LOyWL0yyzIcI"
      },
      "execution_count": null,
      "outputs": []
    },
    {
      "cell_type": "code",
      "source": [],
      "metadata": {
        "id": "XutxGVXlzIcI"
      },
      "execution_count": null,
      "outputs": []
    },
    {
      "cell_type": "code",
      "source": [],
      "metadata": {
        "id": "rDfo25EpzIJ1"
      },
      "execution_count": null,
      "outputs": []
    },
    {
      "cell_type": "code",
      "source": [],
      "metadata": {
        "id": "bEVXPMh0zIHs"
      },
      "execution_count": null,
      "outputs": []
    },
    {
      "cell_type": "markdown",
      "source": [
        "### Informação 12\n",
        " - Preco medio das commodities de acordo com o ano"
      ],
      "metadata": {
        "id": "z5hsFMl2zM1X"
      }
    },
    {
      "cell_type": "code",
      "source": [
        "%%file pratica.py\n",
        "from mrjob.job import MRJob\n",
        "import sys\n",
        "\n",
        "class WordCount(MRJob):\n",
        "    def mapper(self, _, linha):\n",
        "      try:\n",
        "        campos = linha.split(';')\n",
        "        ano = campos[1]\n",
        "        commodities = campos[3]\n",
        "        fluxo = campos[4]\n",
        "        chave = commodities+','+ano\n",
        "        preco = float(campos[5])\n",
        "        yield(chave,preco)\n",
        "      except:\n",
        "        pass\n",
        "\n",
        "    def reducer(self, chave, valores):\n",
        "      lista = list(valores)\n",
        "      yield(chave, (sum(lista)/len(lista)))\n",
        "\n",
        "if __name__ == '__main__':\n",
        "     WordCount.run()"
      ],
      "metadata": {
        "id": "Jlv_DLqjzM1X",
        "colab": {
          "base_uri": "https://localhost:8080/"
        },
        "outputId": "8920e829-25df-4009-e16c-2c2b55921f45"
      },
      "execution_count": null,
      "outputs": [
        {
          "output_type": "stream",
          "name": "stdout",
          "text": [
            "Overwriting pratica.py\n"
          ]
        }
      ]
    },
    {
      "cell_type": "markdown",
      "source": [
        "Teste prévio com base parcial"
      ],
      "metadata": {
        "id": "-kvka7zWzM1Y"
      }
    },
    {
      "cell_type": "code",
      "source": [
        "!rm -rf /content/atividade\n",
        "!python pratica.py /content/base_sample.csv --output-dir=/content/atividade\n",
        "print('\\nTop 10 Entradas da atividade')\n",
        "!cat /content/atividade/* | sort -k2,2rn -t$'\\t' | head -10"
      ],
      "metadata": {
        "id": "h-pRDHbszM1Y",
        "colab": {
          "base_uri": "https://localhost:8080/"
        },
        "outputId": "1dee9773-ce73-48d6-d946-ca83d943f854"
      },
      "execution_count": null,
      "outputs": [
        {
          "output_type": "stream",
          "name": "stdout",
          "text": [
            "No configs found; falling back on auto-configuration\n",
            "No configs specified for inline runner\n",
            "Running step 1 of 1...\n",
            "Creating temp directory /tmp/pratica.root.20240808.012046.077468\n",
            "job output is in /content/atividade\n",
            "Removing temp directory /tmp/pratica.root.20240808.012046.077468...\n",
            "\n",
            "Top 10 Entradas da atividade\n",
            "\"Bovine animals, live, except pure-bred breeding,2016\"\t87946336.62244898\n",
            "\"Bovine animals, live, except pure-bred breeding,2014\"\t87511974.93283582\n",
            "\"Bovine animals, live, except pure-bred breeding,1994\"\t84802246.29166667\n",
            "\"Bovine animals, live, except pure-bred breeding,2013\"\t83745374.140625\n",
            "\"Bovine animals, live, except pure-bred breeding,2010\"\t82026854.73728813\n",
            "\"Bovine animals, live, except pure-bred breeding,2015\"\t80993941.36\n",
            "\"Bovine animals, live, except pure-bred breeding,2012\"\t80702915.28148147\n",
            "\"Bovine animals, live, except pure-bred breeding,2011\"\t79034358.08333333\n",
            "\"Bovine animals, live, except pure-bred breeding,1995\"\t77522772.4090909\n",
            "\"Swine, live except pure-bred breeding > 50 kg,2008\"\t74754526.40677966\n"
          ]
        }
      ]
    },
    {
      "cell_type": "markdown",
      "source": [
        "Teste com base completa"
      ],
      "metadata": {
        "id": "02Y9y0vvzM1Y"
      }
    },
    {
      "cell_type": "code",
      "source": [
        "!rm -rf /content/atividade\n",
        "!python pratica.py /content/base.csv --output-dir=/content/atividade\n",
        "print('\\nTop 10 Entradas da atividade')\n",
        "!cat /content/atividade/* | sort -k2,2rn -t$'\\t' | head -10"
      ],
      "metadata": {
        "id": "X2vSkc4TzM1Y"
      },
      "execution_count": null,
      "outputs": []
    },
    {
      "cell_type": "code",
      "source": [],
      "metadata": {
        "id": "0A6Yp5pHzIFe"
      },
      "execution_count": null,
      "outputs": []
    },
    {
      "cell_type": "code",
      "source": [],
      "metadata": {
        "id": "Atyt8hhmzIC4"
      },
      "execution_count": null,
      "outputs": []
    },
    {
      "cell_type": "markdown",
      "source": [
        "### Informação 13\n",
        " - Valores maximos, minimos e médios de cada tipo de mercadoria por ano"
      ],
      "metadata": {
        "id": "RZmUJsEJzf81"
      }
    },
    {
      "cell_type": "code",
      "source": [
        "%%file pratica.py\n",
        "from mrjob.job import MRJob\n",
        "import sys\n",
        "\n",
        "class WordCount(MRJob):\n",
        "    def mapper(self, _, linha):\n",
        "      yield('nada', 1)\n",
        "\n",
        "    def reducer(self, chave, valores):\n",
        "      yield('nada', 1)\n",
        "\n",
        "if __name__ == '__main__':\n",
        "     WordCount.run()"
      ],
      "metadata": {
        "id": "k3EuPt4zzf81"
      },
      "execution_count": null,
      "outputs": []
    },
    {
      "cell_type": "markdown",
      "source": [
        "Teste prévio com base parcial"
      ],
      "metadata": {
        "id": "Oy2uz-a3zf82"
      }
    },
    {
      "cell_type": "code",
      "source": [
        "!rm -rf /content/atividade\n",
        "!python pratica.py /content/base_sample.csv --output-dir=/content/atividade\n",
        "print('\\nTop 10 Entradas da atividade')\n",
        "!cat /content/atividade/* | sort -k2,2rn -t$'\\t' | head -10"
      ],
      "metadata": {
        "id": "mtIpVd5Vzf82"
      },
      "execution_count": null,
      "outputs": []
    },
    {
      "cell_type": "markdown",
      "source": [
        "Teste com base completa"
      ],
      "metadata": {
        "id": "J77Z57X2zf82"
      }
    },
    {
      "cell_type": "code",
      "source": [
        "!rm -rf /content/atividade\n",
        "!python pratica.py /content/base.csv --output-dir=/content/atividade\n",
        "print('\\nTop 10 Entradas da atividade')\n",
        "!cat /content/atividade/* | sort -k2,2rn -t$'\\t' | head -10"
      ],
      "metadata": {
        "id": "zKs2-K-zzf82"
      },
      "execution_count": null,
      "outputs": []
    },
    {
      "cell_type": "code",
      "source": [],
      "metadata": {
        "id": "t9OzspG8zqB0"
      },
      "execution_count": null,
      "outputs": []
    },
    {
      "cell_type": "code",
      "source": [],
      "metadata": {
        "id": "Stzeb88iztQE"
      },
      "execution_count": null,
      "outputs": []
    },
    {
      "cell_type": "markdown",
      "source": [
        "### Informação 14\n",
        " - Pais com o maior preco da commodity em fluxos do tipo Export"
      ],
      "metadata": {
        "id": "pcFnYAKoztg2"
      }
    },
    {
      "cell_type": "code",
      "source": [
        "%%file pratica.py\n",
        "from mrjob.job import MRJob\n",
        "import sys\n",
        "\n",
        "class WordCount(MRJob):\n",
        "    def mapper(self, _, linha):\n",
        "      try:\n",
        "        campos = linha.split(';')\n",
        "        pais = campos[0]\n",
        "        chave = pais\n",
        "        preco = float(campos[5])\n",
        "        if campos[4] =='Export':\n",
        "          yield(chave,preco)\n",
        "      except:\n",
        "        pass\n",
        "\n",
        "    def reducer(self, chave, valores):\n",
        "      lista = list(valores)\n",
        "      yield(chave, (sum(lista)))\n",
        "\n",
        "if __name__ == '__main__':\n",
        "     WordCount.run()"
      ],
      "metadata": {
        "id": "muu3daACztg2",
        "colab": {
          "base_uri": "https://localhost:8080/"
        },
        "outputId": "3bc75c55-8d26-4222-ed58-50affff045d7"
      },
      "execution_count": null,
      "outputs": [
        {
          "output_type": "stream",
          "name": "stdout",
          "text": [
            "Overwriting pratica.py\n"
          ]
        }
      ]
    },
    {
      "cell_type": "markdown",
      "source": [
        "Teste prévio com base parcial"
      ],
      "metadata": {
        "id": "6W-lz6vtztg2"
      }
    },
    {
      "cell_type": "code",
      "source": [
        "!rm -rf /content/atividade\n",
        "!python pratica.py /content/base_sample.csv --output-dir=/content/atividade\n",
        "print('\\nTop 10 Entradas da atividade')\n",
        "!cat /content/atividade/* | sort -k2,2rn -t$'\\t' | head -10"
      ],
      "metadata": {
        "id": "Q1mFjIqBztg2",
        "colab": {
          "base_uri": "https://localhost:8080/"
        },
        "outputId": "63e71151-3a2e-44b4-9a74-4bf344501785"
      },
      "execution_count": null,
      "outputs": [
        {
          "output_type": "stream",
          "name": "stdout",
          "text": [
            "No configs found; falling back on auto-configuration\n",
            "No configs specified for inline runner\n",
            "Running step 1 of 1...\n",
            "Creating temp directory /tmp/pratica.root.20240808.012813.092117\n",
            "job output is in /content/atividade\n",
            "Removing temp directory /tmp/pratica.root.20240808.012813.092117...\n",
            "\n",
            "Top 10 Entradas da atividade\n",
            "\"France\"\t46285035324.0\n",
            "\"Canada\"\t38782920986.0\n",
            "\"Netherlands\"\t35250017181.0\n",
            "\"EU-28\"\t26309306412.0\n",
            "\"Germany\"\t25218535717.0\n",
            "\"Australia\"\t18959375061.0\n",
            "\"Denmark\"\t12759819798.0\n",
            "\"Mexico\"\t12599247218.0\n",
            "\"China\"\t11424557852.0\n",
            "\"Ireland\"\t8346981506.0\n"
          ]
        }
      ]
    },
    {
      "cell_type": "markdown",
      "source": [
        "Teste com base completa"
      ],
      "metadata": {
        "id": "459ZTL8oztg2"
      }
    },
    {
      "cell_type": "code",
      "source": [
        "!rm -rf /content/atividade\n",
        "!python pratica.py /content/base.csv --output-dir=/content/atividade\n",
        "print('\\nTop 10 Entradas da atividade')\n",
        "!cat /content/atividade/* | sort -k2,2rn -t$'\\t' | head -10"
      ],
      "metadata": {
        "id": "AsB0wX4Jztg3"
      },
      "execution_count": null,
      "outputs": []
    },
    {
      "cell_type": "code",
      "source": [],
      "metadata": {
        "id": "UdHqJpMZztKN"
      },
      "execution_count": null,
      "outputs": []
    },
    {
      "cell_type": "code",
      "source": [],
      "metadata": {
        "id": "4KzOva_C0KpX"
      },
      "execution_count": null,
      "outputs": []
    },
    {
      "cell_type": "code",
      "source": [],
      "metadata": {
        "id": "0OKfwD7A0KiA"
      },
      "execution_count": null,
      "outputs": []
    },
    {
      "cell_type": "markdown",
      "source": [
        "### Informação 15\n",
        " - Quantidade de transações comerciais de acordo com o fluxo, de acordo com o ano"
      ],
      "metadata": {
        "id": "wa-m-YVS0K11"
      }
    },
    {
      "cell_type": "code",
      "source": [
        "%%file pratica.py\n",
        "from mrjob.job import MRJob\n",
        "import sys\n",
        "\n",
        "class WordCount(MRJob):\n",
        "    def mapper(self, _, linha):\n",
        "      yield('nada', 1)\n",
        "\n",
        "    def reducer(self, chave, valores):\n",
        "      yield('nada', 1)\n",
        "\n",
        "if __name__ == '__main__':\n",
        "     WordCount.run()"
      ],
      "metadata": {
        "id": "6Hp79Axv0K12"
      },
      "execution_count": null,
      "outputs": []
    },
    {
      "cell_type": "markdown",
      "source": [
        "Teste prévio com base parcial"
      ],
      "metadata": {
        "id": "eLopft5r0K12"
      }
    },
    {
      "cell_type": "code",
      "source": [
        "!rm -rf /content/atividade\n",
        "!python pratica.py /content/base_sample.csv --output-dir=/content/atividade\n",
        "print('\\nTop 10 Entradas da atividade')\n",
        "!cat /content/atividade/* | sort -k2,2rn -t$'\\t' | head -10"
      ],
      "metadata": {
        "id": "ReLWyMor0K12"
      },
      "execution_count": null,
      "outputs": []
    },
    {
      "cell_type": "markdown",
      "source": [
        "Teste com base completa"
      ],
      "metadata": {
        "id": "ixK0Sslz0K12"
      }
    },
    {
      "cell_type": "code",
      "source": [
        "!rm -rf /content/atividade\n",
        "!python pratica.py /content/base.csv --output-dir=/content/atividade\n",
        "print('\\nTop 10 Entradas da atividade')\n",
        "!cat /content/atividade/* | sort -k2,2rn -t$'\\t' | head -10"
      ],
      "metadata": {
        "id": "iS6jIzlu0K12"
      },
      "execution_count": null,
      "outputs": []
    },
    {
      "cell_type": "code",
      "source": [],
      "metadata": {
        "id": "Gz1aEcxv0K12"
      },
      "execution_count": null,
      "outputs": []
    }
  ],
  "metadata": {
    "kernelspec": {
      "display_name": "Python 3",
      "language": "python",
      "name": "python3"
    },
    "language_info": {
      "codemirror_mode": {
        "name": "ipython",
        "version": 3
      },
      "file_extension": ".py",
      "mimetype": "text/x-python",
      "name": "python",
      "nbconvert_exporter": "python",
      "pygments_lexer": "ipython3",
      "version": "3.7.6"
    },
    "colab": {
      "provenance": []
    }
  },
  "nbformat": 4,
  "nbformat_minor": 0
}