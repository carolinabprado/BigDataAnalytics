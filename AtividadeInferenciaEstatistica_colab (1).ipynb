{
  "cells": [
    {
      "cell_type": "markdown",
      "metadata": {
        "id": "u2AkQAlHEUBN"
      },
      "source": [
        "# Atividade Spark SQL, Visualização, Estatística Descritiva e Inferência Estatística - Atividade 6\n",
        "\n",
        "Considerando o dataset detalhado a seguir, extraia o conjunto de informações solicitadas.\n",
        "\n",
        "### Dataset dados de sensores veicular\n",
        "\n",
        "- Dados relativos a vários sensores instalados em um carro durante a sua locomoção em diferentes terrenos\n",
        "- ~700MB\n",
        "- ~1M de instâncias\n",
        "\n",
        "\n",
        "| #  \t| Nome do campo           \t| Descrição                                                                     \t|\n",
        "|----\t|-------------------------\t|-------------------------------------------------------------------------------\t|\n",
        "| 0  \t| timestamp               \t| timestamp da medição                                                          \t|\n",
        "| 1  \t| acc_x_dashboard         \t| Valor do acelerometro no eixo X                                               \t|\n",
        "| 2  \t| acc_y_dashboard         \t| Valor do acelerometro no eixo Y                                               \t|\n",
        "| 3  \t| acc_z_dashboard         \t| Valor do acelerometro no eixo Z                                               \t|\n",
        "| 4  \t| acc_x_above_suspension  \t| Valor do acelerometro sobre a suspensão no eixo X                             \t|\n",
        "| 5  \t| acc_y_above_suspension  \t| Valor do acelerometro sobre a suspensão no eixo Y                             \t|\n",
        "| 6  \t| acc_z_above_suspension  \t| Valor do acelerometro sobre a suspensão no eixo Z                             \t|\n",
        "| 7  \t| acc_x_below_suspension  \t| Valor do acelerometro sob a suspensão no eixo X                               \t|\n",
        "| 8  \t| acc_y_below_suspension  \t| Valor do acelerometro sob a suspensão no eixo Y                               \t|\n",
        "| 9  \t| acc_z_below_suspension  \t| Valor do acelerometro sob a suspensão no eixo Z                               \t|\n",
        "| 10 \t| gyro_x_dashboard        \t| Valor do giroscópio (velocidade angular) no eixo X                            \t|\n",
        "| 11 \t| gyro_y_dashboard        \t| Valor do giroscópio (velocidade angular) no eixo Y                            \t|\n",
        "| 12 \t| gyro_z_dashboard        \t| Valor do giroscópio (velocidade angular) no eixo Z                            \t|\n",
        "| 13 \t| gyro_x_above_suspension \t| Valor do giroscópio (velocidade angular) sobre a suspensão no eixo X          \t|\n",
        "| 14 \t| gyro_y_above_suspension \t| Valor do giroscópio (velocidade angular) sobre a suspensão no eixo Y          \t|\n",
        "| 15 \t| gyro_z_above_suspension \t| Valor do giroscópio (velocidade angular) sobre a suspensão no eixo Z          \t|\n",
        "| 16 \t| gyro_x_below_suspension \t| Valor do giroscópio (velocidade angular) sob a suspensão no eixo X            \t|\n",
        "| 17 \t| gyro_y_below_suspension \t| Valor do giroscópio (velocidade angular) sob a suspensão no eixo Y            \t|\n",
        "| 18 \t| gyro_z_below_suspension \t| Valor do giroscópio (velocidade angular) sob a suspensão no eixo Z            \t|\n",
        "| 19 \t| mag_x_dashboard         \t| Valor da intensidade do campo magnético no eixo X                             \t|\n",
        "| 20 \t| mag_y_dashboard         \t| Valor da intensidade do campo magnético no eixo Y                             \t|\n",
        "| 21 \t| mag_z_dashboard         \t| Valor da intensidade do campo magnético no eixo Z                             \t|\n",
        "| 22 \t| mag_x_above_suspension  \t| Valor da intensidade do campo magnético sobre a suspensão no eixo X           \t|\n",
        "| 23 \t| mag_y_above_suspension  \t| Valor da intensidade do campo magnético sobre a suspensão no eixo Y           \t|\n",
        "| 24 \t| mag_z_above_suspension  \t| Valor da intensidade do campo magnético sobre a suspensão no eixo Z           \t|\n",
        "| 25 \t| temp_dashboard          \t| Temperatura                                                                   \t|\n",
        "| 26 \t| temp_above_suspension   \t| Temperatura sobre a suspensão                                                 \t|\n",
        "| 27 \t| temp_below_suspension   \t| Temperatura sob a suspensão                                                   \t|\n",
        "| 28 \t| timestamp_gps           \t| Timestamp do GPS                                                              \t|\n",
        "| 29 \t| latitude_x              \t| Latitude no eixo X                                                            \t|\n",
        "| 30 \t| longitude_x             \t| Longitude no eixo Y                                                           \t|\n",
        "| 31 \t| speed                   \t| Velocidade                                                                    \t|\n",
        "| 32 \t| latitude_y              \t| Latitude no eixo Y                                                            \t|\n",
        "| 33 \t| longitude_y             \t| Longitude no eixo Y                                                           \t|\n",
        "| 34 \t| elevation               \t| Elevação                                                                      \t|\n",
        "| 35 \t| accuracy                \t| Precisão do GPS                                                               \t|\n",
        "| 36 \t| bearing                 \t| Direção para o destino                                                        \t|\n",
        "| 37 \t| speed_meters_per_second \t| Velocidade em metros/segundo                                                  \t|\n",
        "| 38 \t| satellites              \t| # de satélites                                                                \t|\n",
        "| 39 \t| provider                \t| Provedor                                                                      \t|\n",
        "| 40 \t| hdop                    \t| Diluição da precisão horizontal do GPS (impacta acurácia do GPS)              \t|\n",
        "| 41 \t| vdop                    \t| Diluição da precisão vertical do GPS (impacta acurácia do GPS)                \t|\n",
        "| 42 \t| pdop                    \t| Diluição da precisão horizontal e vertical do GPS (impacta acurácia do   GPS) \t|\n",
        "| 43 \t| geoidheight             \t| Elevação do GPS                                                               \t|\n",
        "| 44 \t| ageofdgpsdata           \t| Tempo de vida do GPS                                                          \t|\n",
        "| 45 \t| dgpsid                  \t| Identificador do gps                                                          \t|\n",
        "| 46 \t| activity                \t| Atividade                                                                     \t|\n",
        "| 47 \t| battery                 \t| Nível de bateria                                                              \t|\n",
        "| 48 \t| annotation              \t| Anotação                                                                      \t|\n",
        "| 49 \t| distance_meters         \t| Distância em metros                                                           \t|\n",
        "| 50 \t| elapsed_time_seconds    \t| Tempo percorrido                                                              \t|\n",
        "| 51 \t| paved_road              \t| 1 se rua pavimentada                                                          \t|\n",
        "| 52 \t| unpaved_road            \t| 1 se rua não é pavimentada                                                    \t|\n",
        "| 53 \t| dirt_road               \t| 1 se rua de terra                                                             \t|\n",
        "| 54 \t| cobblestone_road        \t| 1 se rua de calçada                                                           \t|\n",
        "| 55 \t| asphalt_road            \t| 1 se rua de asfalto                                                           \t|\n",
        "| 56 \t| no_speed_bump           \t| 1 se não há lombada                                                           \t|\n",
        "| 57 \t| irregular_speed_bump    \t| 1 se há lombada irregular                                                     \t|\n",
        "| 58 \t| regular_speed_bump      \t| 1 se há lombada regular                                                       \t|\n",
        "\n",
        "**Informações a serem extraídas:**\n",
        "\n",
        "1. Qual a força da correlação da velocidade (speed) e velocidade em metros/seg (speed_meters_per_second)\n",
        "2. Para os campos (speed, speed_meters_per_second, distance_meters, mag_y_dashboard, mag_z_dashboard), determine\n",
        "    - Os campos que possuem correlação positiva intermediária ou forte\n",
        "    - Os campos que possuem correlação negativa intermediária ou forte\n",
        "    - Os campos que possuem correlação correlação fraca ou sem relação\n",
        "3. Considerando os campos da informação 2, com correlação positiva intermediária ou forte, exiba os dados através do scatterplot\n",
        "    - Dica, utilize a função sample no rdd (df.rdd.sample(False, 0.1).take(1000))\n",
        "4. Considerando os campos da informação 2, com correlação negativa intermediária ou forte, exiba os dados através do scatterplot\n",
        "    - Dica, utilize a função sample no rdd (df.rdd.sample(False, 0.1).take(1000))\n",
        "5. Boxplot para cada dupla de campo da informação 2, com correlação positiva intermediária ou forte\n",
        "6. Determine a quantidade de outliers de cada campo avaliado da informação 2\n",
        "7. Considerando os campos da informação 2, em rua sem asfalto (unpaved_road = 1), determine\n",
        "    - Os campos que possuem correlação positiva intermediária ou forte\n",
        "    - Os campos que possuem correlação negativa intermediária ou forte\n",
        "    - Os campos que possuem correlação correlação fraca ou sem relação\n",
        "8. Utilizando técnicas de teste de hipótese, com grau de confiança de 80%. Podemos afirmar que ruas com estrada de pedra (cobblestone_road) possuem impacto na velocidade quando comparado a ruas de terra (dirt_road)?\n",
        "    - Filtre baseado no tipo de asfalto\n",
        "9. Utilizando técnicas de teste de hipótese. Quais tipos de ruas possuem a maior similaridade?\n",
        "    - paved_road\n",
        "    - unpaved_road\n",
        "    - dirt_road\n",
        "    - cobblestone_road\n",
        "    - asphalt_road\n",
        "\n",
        "\n",
        "**Dicas:**\n",
        "- *Crie uma célula (Insert -> Insert Cell Below) para cada informação solicitada*\n",
        "- *A análise deve ser feita sobre os dados do HDFS*\n",
        "- *Inicialize o seu cluster executando o script em: Desktop/ambientes/spark/inicializar.sh*\n",
        "- *Acesse o seu cluster executando o script em: Desktop/ambientes/spark/abrir_navegador.sh*"
      ]
    },
    {
      "cell_type": "code",
      "execution_count": null,
      "metadata": {
        "id": "7hNAVnN_DTYW",
        "colab": {
          "base_uri": "https://localhost:8080/"
        },
        "outputId": "169bca9a-2b4d-4325-e38e-144ba3981444"
      },
      "outputs": [
        {
          "output_type": "stream",
          "name": "stdout",
          "text": [
            "Collecting pyspark==3.3.1\n",
            "  Downloading pyspark-3.3.1.tar.gz (281.4 MB)\n",
            "\u001b[2K     \u001b[90m━━━━━━━━━━━━━━━━━━━━━━━━━━━━━━━━━━━━━━━━\u001b[0m \u001b[32m281.4/281.4 MB\u001b[0m \u001b[31m4.9 MB/s\u001b[0m eta \u001b[36m0:00:00\u001b[0m\n",
            "\u001b[?25h  Preparing metadata (setup.py) ... \u001b[?25l\u001b[?25hdone\n",
            "Collecting py4j==0.10.9.5 (from pyspark==3.3.1)\n",
            "  Downloading py4j-0.10.9.5-py2.py3-none-any.whl.metadata (1.5 kB)\n",
            "Downloading py4j-0.10.9.5-py2.py3-none-any.whl (199 kB)\n",
            "\u001b[2K   \u001b[90m━━━━━━━━━━━━━━━━━━━━━━━━━━━━━━━━━━━━━━━━\u001b[0m \u001b[32m199.7/199.7 kB\u001b[0m \u001b[31m11.6 MB/s\u001b[0m eta \u001b[36m0:00:00\u001b[0m\n",
            "\u001b[?25hBuilding wheels for collected packages: pyspark\n",
            "  Building wheel for pyspark (setup.py) ... \u001b[?25l\u001b[?25hdone\n",
            "  Created wheel for pyspark: filename=pyspark-3.3.1-py2.py3-none-any.whl size=281845492 sha256=4eca64cbe80c1398b060e17f171b871e91f4b9a096a040e3b9da5f421118308c\n",
            "  Stored in directory: /root/.cache/pip/wheels/0f/f0/3d/517368b8ce80486e84f89f214e0a022554e4ee64969f46279b\n",
            "Successfully built pyspark\n",
            "Installing collected packages: py4j, pyspark\n",
            "  Attempting uninstall: py4j\n",
            "    Found existing installation: py4j 0.10.9.7\n",
            "    Uninstalling py4j-0.10.9.7:\n",
            "      Successfully uninstalled py4j-0.10.9.7\n",
            "Successfully installed py4j-0.10.9.5 pyspark-3.3.1\n"
          ]
        }
      ],
      "source": [
        "#instala pyspark no google colab\n",
        "!pip install pyspark==3.3.1"
      ]
    },
    {
      "cell_type": "code",
      "source": [
        "# abre sessão no spark sql\n",
        "from pyspark.sql import SparkSession\n",
        "\n",
        "sc = SparkSession \\\n",
        "    .builder \\\n",
        "    .master('local[*]') \\\n",
        "    .getOrCreate()"
      ],
      "metadata": {
        "id": "llDSAtu-DXdc"
      },
      "execution_count": null,
      "outputs": []
    },
    {
      "cell_type": "code",
      "source": [
        "#Efetua download do arquivo\n",
        "!gdown 1KvKLex7rA4LmTV_uOejZ4-okFXCLdY5E"
      ],
      "metadata": {
        "id": "WplasGJhDY1z",
        "colab": {
          "base_uri": "https://localhost:8080/"
        },
        "outputId": "db722812-1e34-4468-fa5c-7eb451ad1a8b"
      },
      "execution_count": null,
      "outputs": [
        {
          "output_type": "stream",
          "name": "stdout",
          "text": [
            "Downloading...\n",
            "From (original): https://drive.google.com/uc?id=1KvKLex7rA4LmTV_uOejZ4-okFXCLdY5E\n",
            "From (redirected): https://drive.google.com/uc?id=1KvKLex7rA4LmTV_uOejZ4-okFXCLdY5E&confirm=t&uuid=6c0f927f-afb8-4bd1-acc7-f634d6f20b02\n",
            "To: /content/dados.csv\n",
            "100% 706M/706M [00:07<00:00, 94.3MB/s]\n"
          ]
        }
      ]
    },
    {
      "cell_type": "code",
      "execution_count": null,
      "metadata": {
        "id": "tTNwQHahDTYX"
      },
      "outputs": [],
      "source": [
        "df=sc.read\\\n",
        "    .option('delimiter',',')\\\n",
        "    .option('header','true')\\\n",
        "    .option('inferschema','true')\\\n",
        "    .csv('file:////content/dados.csv')"
      ]
    },
    {
      "cell_type": "code",
      "execution_count": null,
      "metadata": {
        "id": "_houhj9WDTYX",
        "colab": {
          "base_uri": "https://localhost:8080/"
        },
        "outputId": "87fccf6b-e94e-4dd8-d622-fa503d2165f2"
      },
      "outputs": [
        {
          "output_type": "stream",
          "name": "stdout",
          "text": [
            "root\n",
            " |-- timestamp: double (nullable = true)\n",
            " |-- acc_x_dashboard: double (nullable = true)\n",
            " |-- acc_y_dashboard: double (nullable = true)\n",
            " |-- acc_z_dashboard: double (nullable = true)\n",
            " |-- acc_x_above_suspension: double (nullable = true)\n",
            " |-- acc_y_above_suspension: double (nullable = true)\n",
            " |-- acc_z_above_suspension: double (nullable = true)\n",
            " |-- acc_x_below_suspension: double (nullable = true)\n",
            " |-- acc_y_below_suspension: double (nullable = true)\n",
            " |-- acc_z_below_suspension: double (nullable = true)\n",
            " |-- gyro_x_dashboard: double (nullable = true)\n",
            " |-- gyro_y_dashboard: double (nullable = true)\n",
            " |-- gyro_z_dashboard: double (nullable = true)\n",
            " |-- gyro_x_above_suspension: double (nullable = true)\n",
            " |-- gyro_y_above_suspension: double (nullable = true)\n",
            " |-- gyro_z_above_suspension: double (nullable = true)\n",
            " |-- gyro_x_below_suspension: double (nullable = true)\n",
            " |-- gyro_y_below_suspension: double (nullable = true)\n",
            " |-- gyro_z_below_suspension: double (nullable = true)\n",
            " |-- mag_x_dashboard: double (nullable = true)\n",
            " |-- mag_y_dashboard: double (nullable = true)\n",
            " |-- mag_z_dashboard: double (nullable = true)\n",
            " |-- mag_x_above_suspension: double (nullable = true)\n",
            " |-- mag_y_above_suspension: double (nullable = true)\n",
            " |-- mag_z_above_suspension: double (nullable = true)\n",
            " |-- temp_dashboard: double (nullable = true)\n",
            " |-- temp_above_suspension: double (nullable = true)\n",
            " |-- temp_below_suspension: double (nullable = true)\n",
            " |-- timestamp_gps: double (nullable = true)\n",
            " |-- latitude_x: double (nullable = true)\n",
            " |-- longitude_x: double (nullable = true)\n",
            " |-- speed: double (nullable = true)\n",
            " |-- latitude_y: double (nullable = true)\n",
            " |-- longitude_y: double (nullable = true)\n",
            " |-- elevation: double (nullable = true)\n",
            " |-- accuracy: double (nullable = true)\n",
            " |-- bearing: double (nullable = true)\n",
            " |-- speed_meters_per_second: double (nullable = true)\n",
            " |-- satellites: integer (nullable = true)\n",
            " |-- provider: string (nullable = true)\n",
            " |-- hdop: double (nullable = true)\n",
            " |-- vdop: double (nullable = true)\n",
            " |-- pdop: double (nullable = true)\n",
            " |-- geoidheight: double (nullable = true)\n",
            " |-- ageofdgpsdata: string (nullable = true)\n",
            " |-- dgpsid: string (nullable = true)\n",
            " |-- activity: string (nullable = true)\n",
            " |-- battery: integer (nullable = true)\n",
            " |-- annotation: string (nullable = true)\n",
            " |-- distance_meters: double (nullable = true)\n",
            " |-- elapsed_time_seconds: double (nullable = true)\n",
            " |-- paved_road: integer (nullable = true)\n",
            " |-- unpaved_road: integer (nullable = true)\n",
            " |-- dirt_road: integer (nullable = true)\n",
            " |-- cobblestone_road: integer (nullable = true)\n",
            " |-- asphalt_road: integer (nullable = true)\n",
            " |-- no_speed_bump: integer (nullable = true)\n",
            " |-- irregular_speed_bump: integer (nullable = true)\n",
            " |-- regular_speed_bump: integer (nullable = true)\n",
            "\n"
          ]
        }
      ],
      "source": [
        "df.printSchema()"
      ]
    },
    {
      "cell_type": "code",
      "source": [],
      "metadata": {
        "id": "v0TfMdRNEY-C"
      },
      "execution_count": null,
      "outputs": []
    },
    {
      "cell_type": "code",
      "source": [],
      "metadata": {
        "id": "cyuO8V47EY7k"
      },
      "execution_count": null,
      "outputs": []
    },
    {
      "cell_type": "code",
      "source": [],
      "metadata": {
        "id": "pL6bNW9bEY38"
      },
      "execution_count": null,
      "outputs": []
    },
    {
      "cell_type": "code",
      "execution_count": null,
      "metadata": {
        "id": "ZcgX2l0JEUBR"
      },
      "outputs": [],
      "source": [
        "#informação 1. Qual a força da correlação da velocidade (speed) e velocidade em metros/seg (speed_meters_per_second)\n",
        "resultado = df.select('speed', 'speed_meters_per_second')\\\n",
        ".distinct()\\\n",
        ".collect()"
      ]
    },
    {
      "cell_type": "code",
      "source": [
        "import matplotlib.pyplot as plt\n",
        "\n",
        "speed = [x['speed'] for x in resultado]\n",
        "sp = [y['speed_meters_per_second'] for y in resultado]\n",
        "\n",
        "plt.scatter(speed, sp)\n",
        "plt.xlabel('Speed')\n",
        "plt.ylabel('Speed meters per second')\n",
        "plt.show()"
      ],
      "metadata": {
        "id": "ekhBzJyfEimk",
        "colab": {
          "base_uri": "https://localhost:8080/",
          "height": 449
        },
        "outputId": "47e1037d-a575-4ae8-ea21-1a31d406a33d"
      },
      "execution_count": null,
      "outputs": [
        {
          "output_type": "display_data",
          "data": {
            "text/plain": [
              "<Figure size 640x480 with 1 Axes>"
            ],
            "image/png": "[encoded data removed]"
          },
          "metadata": {}
        }
      ]
    },
    {
      "cell_type": "code",
      "source": [
        "from pyspark.ml.feature import VectorAssembler\n",
        "\n",
        "atributos = ['speed', 'speed_meters_per_second']\n",
        "assembles = VectorAssembler(inputCols=atributos, outputCol='vetor')\n",
        "dfNovo = assembles.setHandleInvalid('skip').transform(df.select('speed', 'speed_meters_per_second'))"
      ],
      "metadata": {
        "id": "npOT8OayEijh"
      },
      "execution_count": null,
      "outputs": []
    },
    {
      "cell_type": "code",
      "source": [
        "from pyspark.ml.stat import Correlation\n",
        "\n",
        "resultado = Correlation.corr(dfNovo, 'vetor').collect()"
      ],
      "metadata": {
        "id": "QmjK5KP2CtJS"
      },
      "execution_count": null,
      "outputs": []
    },
    {
      "cell_type": "code",
      "source": [],
      "metadata": {
        "id": "Yt6YDIZ_CuJH"
      },
      "execution_count": null,
      "outputs": []
    },
    {
      "cell_type": "code",
      "source": [],
      "metadata": {
        "id": "9286OR4CC2-3"
      },
      "execution_count": null,
      "outputs": []
    },
    {
      "cell_type": "code",
      "source": [],
      "metadata": {
        "id": "MZ95oeTNC3bj"
      },
      "execution_count": null,
      "outputs": []
    },
    {
      "cell_type": "code",
      "source": [],
      "metadata": {
        "id": "aLgeOGhMC34O"
      },
      "execution_count": null,
      "outputs": []
    },
    {
      "cell_type": "code",
      "execution_count": null,
      "metadata": {
        "id": "EfYIyh26EUBR"
      },
      "outputs": [],
      "source": [
        "#informação 2 Para os campos (speed, speed_meters_per_second, distance_meters, mag_y_dashboard, mag_z_dashboard), determine\n",
        "#     - Os campos que possuem correlação positiva intermediária ou forte\n",
        "#     - Os campos que possuem correlação negativa intermediária ou forte\n",
        "#     - Os campos que possuem correlação correlação fraca ou sem relação\n",
        "\n"
      ]
    },
    {
      "cell_type": "code",
      "source": [],
      "metadata": {
        "id": "wgXLyaWoEoFs"
      },
      "execution_count": null,
      "outputs": []
    },
    {
      "cell_type": "code",
      "source": [],
      "metadata": {
        "id": "o2-2b56vEoDQ"
      },
      "execution_count": null,
      "outputs": []
    },
    {
      "cell_type": "code",
      "execution_count": null,
      "metadata": {
        "id": "P3LKS3seEUBR"
      },
      "outputs": [],
      "source": [
        "#informação 3. Considerando os campos da informação 2, com correlação positiva intermediária ou forte, exiba os dados através do scatterplot\n",
        "#     - Dica, utilize a função sample no rdd (df.rdd.sample(False, 0.1).take(1000))\n"
      ]
    },
    {
      "cell_type": "code",
      "source": [],
      "metadata": {
        "id": "SG5Y_Y8UEojm"
      },
      "execution_count": null,
      "outputs": []
    },
    {
      "cell_type": "code",
      "source": [],
      "metadata": {
        "id": "mCVSARvxEohH"
      },
      "execution_count": null,
      "outputs": []
    },
    {
      "cell_type": "code",
      "execution_count": null,
      "metadata": {
        "id": "ywFqsYqMEUBS"
      },
      "outputs": [],
      "source": [
        "#informação 4. Considerando os campos da informação 2, com correlação negativa intermediária ou forte, exiba os dados através do scatterplot\n",
        "#    - Dica, utilize a função sample no rdd (df.rdd.sample(False, 0.1).take(1000))\n",
        "\n"
      ]
    },
    {
      "cell_type": "code",
      "source": [],
      "metadata": {
        "id": "AwvNMHOZEp_c"
      },
      "execution_count": null,
      "outputs": []
    },
    {
      "cell_type": "code",
      "source": [],
      "metadata": {
        "id": "M8vOSBinEp8w"
      },
      "execution_count": null,
      "outputs": []
    },
    {
      "cell_type": "code",
      "execution_count": null,
      "metadata": {
        "id": "6WsGnqwrEUBS"
      },
      "outputs": [],
      "source": [
        "#informação 5. Boxplot para cada dupla de campo da informação 2, com correlação positiva intermediária ou forte\n"
      ]
    },
    {
      "cell_type": "code",
      "source": [],
      "metadata": {
        "id": "pRNbUIETEpxh"
      },
      "execution_count": null,
      "outputs": []
    },
    {
      "cell_type": "code",
      "source": [],
      "metadata": {
        "id": "-HCr1bBBEpuk"
      },
      "execution_count": null,
      "outputs": []
    },
    {
      "cell_type": "code",
      "execution_count": null,
      "metadata": {
        "id": "ZJto50CHEUBS"
      },
      "outputs": [],
      "source": [
        "#informação 6. Determine a quantidade de outliers de cada campo avaliado da informação 2\n",
        "\n",
        "resultado = df.select('speed')\\\n",
        "  .summary()\\\n",
        "  .collect()"
      ]
    },
    {
      "cell_type": "code",
      "source": [
        "media = float(resultado[1]['speed'])\n",
        "desvioPadrao = float(resultado[2]['speed'])\n",
        "minimo = float(resultado[3]['speed'])\n",
        "speedq1 = float(resultado[4]['speed'])\n",
        "speedq2 = float(resultado[5]['speed'])\n",
        "speedq3 = float(resultado[6]['speed'])\n",
        "maximo = float(resultado[7]['speed'])"
      ],
      "metadata": {
        "id": "AGZ8T-QAEplU"
      },
      "execution_count": null,
      "outputs": []
    },
    {
      "cell_type": "code",
      "source": [
        "stats = {\n",
        "    'label': 'speed',\n",
        "    'med': media,\n",
        "    'q1': speedq1,\n",
        "    'q3': speedq3,\n",
        "    'whislo': max(minimo, q1-(amplitude*1.5)), #valor maximo, lembre-se da regra da amplitude\n",
        "    'whishi': min(maximo, q3+(amplitude*1.5)), #valor minimo, lembre-se da regra da amplitude\n",
        "    'fliers': []\n",
        "}"
      ],
      "metadata": {
        "id": "SXS8oJsfD9MQ"
      },
      "execution_count": null,
      "outputs": []
    },
    {
      "cell_type": "code",
      "source": [],
      "metadata": {
        "id": "d6Fy_BWWEpiB"
      },
      "execution_count": null,
      "outputs": []
    },
    {
      "cell_type": "code",
      "source": [
        "df.select('speed')\\\n"
      ],
      "metadata": {
        "id": "A7taStepFcxG"
      },
      "execution_count": null,
      "outputs": []
    },
    {
      "cell_type": "code",
      "execution_count": null,
      "metadata": {
        "id": "MEdrRCsOEUBT"
      },
      "outputs": [],
      "source": [
        "#informação 7. Considerando os campos da informação 2, em rua sem asfalto (unpaved_road = 1), determine\n",
        "#    - Os campos que possuem correlação positiva intermediária ou forte\n",
        "#    - Os campos que possuem correlação negativa intermediária ou forte\n",
        "#    - Os campos que possuem correlação correlação fraca ou sem relação\n",
        "\n"
      ]
    },
    {
      "cell_type": "code",
      "source": [],
      "metadata": {
        "id": "gMTDhYxqEpap"
      },
      "execution_count": null,
      "outputs": []
    },
    {
      "cell_type": "code",
      "source": [],
      "metadata": {
        "id": "K1dNKxp3EpYF"
      },
      "execution_count": null,
      "outputs": []
    },
    {
      "cell_type": "code",
      "execution_count": null,
      "metadata": {
        "id": "q8tuCaU5EUBT"
      },
      "outputs": [],
      "source": [
        "#informação 8. Utilizando técnicas de teste de hipótese, com grau de confiança de 80%. Podemos afirmar que ruas com estrada de pedra (cobblestone_road) possuem impacto na velocidade quando comparado a ruas de terra (dirt_road)?\n",
        "#    - Filtre baseado no tipo de asfalto\n",
        "\n"
      ]
    },
    {
      "cell_type": "code",
      "source": [],
      "metadata": {
        "id": "3cK6n4djEpPC"
      },
      "execution_count": null,
      "outputs": []
    },
    {
      "cell_type": "code",
      "source": [],
      "metadata": {
        "id": "bLp_hQJHEpMm"
      },
      "execution_count": null,
      "outputs": []
    },
    {
      "cell_type": "code",
      "execution_count": null,
      "metadata": {
        "id": "cauefHG6EUBT"
      },
      "outputs": [],
      "source": [
        "#informação 9. Utilizando técnicas de teste de hipótese. Quais tipos de ruas possuem a maior similaridade?\n",
        "#    - paved_road\n",
        "#    - unpaved_road\n",
        "#    - dirt_road\n",
        "#    - cobblestone_road\n",
        "#    - asphalt_road\n"
      ]
    },
    {
      "cell_type": "code",
      "source": [],
      "metadata": {
        "id": "xreh4vHeEpBV"
      },
      "execution_count": null,
      "outputs": []
    },
    {
      "cell_type": "code",
      "source": [],
      "metadata": {
        "id": "IA903zRFEo-h"
      },
      "execution_count": null,
      "outputs": []
    }
  ],
  "metadata": {
    "kernelspec": {
      "display_name": "Python 3",
      "language": "python",
      "name": "python3"
    },
    "language_info": {
      "codemirror_mode": {
        "name": "ipython",
        "version": 3
      },
      "file_extension": ".py",
      "mimetype": "text/x-python",
      "name": "python",
      "nbconvert_exporter": "python",
      "pygments_lexer": "ipython3",
      "version": "3.7.6"
    },
    "colab": {
      "provenance": []
    }
  },
  "nbformat": 4,
  "nbformat_minor": 0
}